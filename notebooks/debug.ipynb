{
 "cells": [
  {
   "cell_type": "code",
   "execution_count": 1,
   "id": "a297d69d",
   "metadata": {},
   "outputs": [],
   "source": [
    "\n",
    "from PyRuSH import PyRuSHSentencizer\n",
    "from spacy.lang.en import English\n",
    "from PyRuSH import RuSH\n",
    "import os"
   ]
  },
  {
   "cell_type": "code",
   "execution_count": 2,
   "id": "c9128bb3",
   "metadata": {},
   "outputs": [
    {
     "name": "stdout",
     "output_type": "stream",
     "text": [
      "0\n"
     ]
    }
   ],
   "source": [
    "rush = RuSH(os.path.join('../conf/rush_rules.tsv'), enable_logger=True)"
   ]
  },
  {
   "cell_type": "code",
   "execution_count": 8,
   "id": "81ef94a6",
   "metadata": {},
   "outputs": [],
   "source": [
    "input_str = '''        \n",
    "\n",
    "        \n",
    "        Ms. ABCD is a 69-year-old lady, who was admitted to the hospital with chest pain and respiratory insufficiency.  She has chronic lung disease with bronchospastic angina.\n",
    "We discovered new T-wave abnormalities on her EKG.  There was of course a four-vessel bypass surgery in 2001.  We did a coronary angiogram.  This demonstrated patent vein grafts and patent internal mammary vessel and so there was no obvious new disease.\n",
    "She may continue in the future to have angina and she will have nitroglycerin available for that if needed.\n",
    "Her blood pressure has been elevated and so instead of metoprolol, we have started her on Coreg 6.25 mg b.i.d.  This should be increased up to 25 mg b.i.d. as preferred antihypertensive in this lady's case.  She also is on an ACE inhibitor.\n",
    "So her discharge meds are as follows:\n",
    "1.  Coreg 6.25 mg b.i.d.\n",
    "2.  Simvastatin 40 mg nightly.\n",
    "3.  Lisinopril 5 mg b.i.d.\n",
    "4.  Protonix 40 mg a.m.\n",
    "5.  Aspirin 160 mg a day.\n",
    "6.  Lasix 20 mg b.i.d.\n",
    "7.  Spiriva puff daily.\n",
    "8.  Albuterol p.r.n. q.i.d.\n",
    "9.  Advair 500/50 puff b.i.d.\n",
    "10.  Xopenex q.i.d. and p.r.n.\n",
    "I will see her in a month to six weeks.  She is to follow up with Dr. X before that.\n",
    "        \n",
    "\n",
    "\n",
    " Ezoic - MTSam Sample Bottom Matched Content - native_bottom \n",
    "\n",
    "\n",
    "\n",
    "\n",
    " End Ezoic - MTSam Sample Bottom Matched Content - native_bottom\n",
    "'''"
   ]
  },
  {
   "cell_type": "code",
   "execution_count": 4,
   "id": "2f8f59b4",
   "metadata": {},
   "outputs": [
    {
     "name": "stdout",
     "output_type": "stream",
     "text": [
      "2025-08-25 01:16:56,451 - PyRuSH.RuSH - DEBUG - stbegin\n",
      "2025-08-25 01:16:56,452 - PyRuSH.RuSH - DEBUG - \t19-20:1.0\t                   <M>\t[Rule 57:\t\\n\\n\\s+(\\C)\tstbegin\t0.0\tACTUAL]\n",
      "2025-08-25 01:16:56,452 - PyRuSH.RuSH - DEBUG - \t23-24:1.0\t                   Ms. <A>\t[Rule 49:\t\\c.\\s+(\\C)\tstbegin\t0.0\tACTUAL]\n",
      "2025-08-25 01:16:56,453 - PyRuSH.RuSH - DEBUG - \t132-136:1.0\t                   Ms. ABCD is a 69-year-old lady, who was admitted to the hospital with chest pain and respiratory insufficiency.  <S>\t[Rule 953:\t.\\w+(She \tstbegin\t0.0\tACTUAL]\n",
      "2025-08-25 01:16:56,454 - PyRuSH.RuSH - DEBUG - \t189-192:1.0\t                   Ms. ABCD is a 69-year-old lady, who was admitted to the hospital with chest pain and respiratory insufficiency.  She has chronic lung disease with bronchospastic angina. <W>\t[Rule 954:\t.\\w+(We \tstbegin\t0.0\tACTUAL]\n",
      "2025-08-25 01:16:56,454 - PyRuSH.RuSH - DEBUG - \t241-244:1.0\t                   Ms. ABCD is a 69-year-old lady, who was admitted to the hospital with chest pain and respiratory insufficiency.  She has chronic lung disease with bronchospastic angina. We discovered new T-wave abnormalities on her EKG.  <T>\t[Rule 565:\t.\\s+(The\tstbegin\t0.0\tACTUAL]\n",
      "2025-08-25 01:16:56,455 - PyRuSH.RuSH - DEBUG - \t300-303:1.0\t                   Ms. ABCD is a 69-year-old lady, who was admitted to the hospital with chest pain and respiratory insufficiency.  She has chronic lung disease with bronchospastic angina. We discovered new T-wave abnormalities on her EKG.  There was of course a four-vessel bypass surgery in 2001.  <W>\t[Rule 954:\t.\\w+(We \tstbegin\t0.0\tACTUAL]\n",
      "2025-08-25 01:16:56,456 - PyRuSH.RuSH - DEBUG - \t332-337:1.0\t                   Ms. ABCD is a 69-year-old lady, who was admitted to the hospital with chest pain and respiratory insufficiency.  She has chronic lung disease with bronchospastic angina. We discovered new T-wave abnormalities on her EKG.  There was of course a four-vessel bypass surgery in 2001.  We did a coronary angiogram.    <T>\t[Rule 964:\t.\\w+(This \tstbegin\t0.0\tACTUAL]\n",
      "2025-08-25 01:16:56,456 - PyRuSH.RuSH - DEBUG - \t428-432:1.0\t                   Ms. ABCD is a 69-year-old lady, who was admitted to the hospital with chest pain and respiratory insufficiency.  She has chronic lung disease with bronchospastic angina. We discovered new T-wave abnormalities on her EKG.  There was of course a four-vessel bypass surgery in 2001.  We did a coronary angiogram.    This should be increased up to 25 mg b.i.d. as preferred antihypertensive in this lady's case.  <S>\t[Rule 953:\t.\\w+(She \tstbegin\t0.0\tACTUAL]\n",
      "2025-08-25 01:16:56,457 - PyRuSH.RuSH - DEBUG - \t461-462:1.0\t                   Ms. ABCD is a 69-year-old lady, who was admitted to the hospital with chest pain and respiratory insufficiency.  She has chronic lung disease with bronchospastic angina. We discovered new T-wave abnormalities on her EKG.  There was of course a four-vessel bypass surgery in 2001.  We did a coronary angiogram.    This should be increased up to 25 mg b.i.d. as preferred antihypertensive in this lady's case.  She also is on an ACE inhibitor. <S>\t[Rule 204:\t\\n+(\\C)\tstbegin\t0.0\tACTUAL]\n",
      "2025-08-25 01:16:56,452 - PyRuSH.RuSH - DEBUG - \t19-20:1.0\t                   <M>\t[Rule 57:\t\\n\\n\\s+(\\C)\tstbegin\t0.0\tACTUAL]\n",
      "2025-08-25 01:16:56,452 - PyRuSH.RuSH - DEBUG - \t23-24:1.0\t                   Ms. <A>\t[Rule 49:\t\\c.\\s+(\\C)\tstbegin\t0.0\tACTUAL]\n",
      "2025-08-25 01:16:56,453 - PyRuSH.RuSH - DEBUG - \t132-136:1.0\t                   Ms. ABCD is a 69-year-old lady, who was admitted to the hospital with chest pain and respiratory insufficiency.  <S>\t[Rule 953:\t.\\w+(She \tstbegin\t0.0\tACTUAL]\n",
      "2025-08-25 01:16:56,454 - PyRuSH.RuSH - DEBUG - \t189-192:1.0\t                   Ms. ABCD is a 69-year-old lady, who was admitted to the hospital with chest pain and respiratory insufficiency.  She has chronic lung disease with bronchospastic angina. <W>\t[Rule 954:\t.\\w+(We \tstbegin\t0.0\tACTUAL]\n",
      "2025-08-25 01:16:56,454 - PyRuSH.RuSH - DEBUG - \t241-244:1.0\t                   Ms. ABCD is a 69-year-old lady, who was admitted to the hospital with chest pain and respiratory insufficiency.  She has chronic lung disease with bronchospastic angina. We discovered new T-wave abnormalities on her EKG.  <T>\t[Rule 565:\t.\\s+(The\tstbegin\t0.0\tACTUAL]\n",
      "2025-08-25 01:16:56,455 - PyRuSH.RuSH - DEBUG - \t300-303:1.0\t                   Ms. ABCD is a 69-year-old lady, who was admitted to the hospital with chest pain and respiratory insufficiency.  She has chronic lung disease with bronchospastic angina. We discovered new T-wave abnormalities on her EKG.  There was of course a four-vessel bypass surgery in 2001.  <W>\t[Rule 954:\t.\\w+(We \tstbegin\t0.0\tACTUAL]\n",
      "2025-08-25 01:16:56,456 - PyRuSH.RuSH - DEBUG - \t332-337:1.0\t                   Ms. ABCD is a 69-year-old lady, who was admitted to the hospital with chest pain and respiratory insufficiency.  She has chronic lung disease with bronchospastic angina. We discovered new T-wave abnormalities on her EKG.  There was of course a four-vessel bypass surgery in 2001.  We did a coronary angiogram.    <T>\t[Rule 964:\t.\\w+(This \tstbegin\t0.0\tACTUAL]\n",
      "2025-08-25 01:16:56,456 - PyRuSH.RuSH - DEBUG - \t428-432:1.0\t                   Ms. ABCD is a 69-year-old lady, who was admitted to the hospital with chest pain and respiratory insufficiency.  She has chronic lung disease with bronchospastic angina. We discovered new T-wave abnormalities on her EKG.  There was of course a four-vessel bypass surgery in 2001.  We did a coronary angiogram.    This should be increased up to 25 mg b.i.d. as preferred antihypertensive in this lady's case.  <S>\t[Rule 953:\t.\\w+(She \tstbegin\t0.0\tACTUAL]\n",
      "2025-08-25 01:16:56,457 - PyRuSH.RuSH - DEBUG - \t461-462:1.0\t                   Ms. ABCD is a 69-year-old lady, who was admitted to the hospital with chest pain and respiratory insufficiency.  She has chronic lung disease with bronchospastic angina. We discovered new T-wave abnormalities on her EKG.  There was of course a four-vessel bypass surgery in 2001.  We did a coronary angiogram.    This should be increased up to 25 mg b.i.d. as preferred antihypertensive in this lady's case.  She also is on an ACE inhibitor. <S>\t[Rule 204:\t\\n+(\\C)\tstbegin\t0.0\tACTUAL]\n",
      "2025-08-25 01:16:56,459 - PyRuSH.RuSH - DEBUG - \t499-504:1.0\t                   Ms. ABCD is a 69-year-old lady, who was admitted to the hospital with chest pain and respiratory insufficiency.  She has chronic lung disease with bronchospastic angina. We discovered new T-wave abnormalities on her EKG.  There was of course a four-vessel bypass surgery in 2001.  We did a coronary angiogram.    This should be increased up to 25 mg b.i.d. as preferred antihypertensive in this lady's case.  She also is on an ACE inhibitor. So her discharge meds are as follows: <1>\t[Rule 784:\t\\a\\n+(\\d.\\s+\\C\tstbegin\t0.0\tACTUAL]\n",
      "2025-08-25 01:16:56,460 - PyRuSH.RuSH - DEBUG - stend\n",
      "2025-08-25 01:16:56,461 - PyRuSH.RuSH - DEBUG - \t0-20:1.0\t< >\t[Rule 517:\t\\s+\\n\\n+\\s+\\C\tstend\t2.0\tACTUAL]\n",
      "2025-08-25 01:16:56,462 - PyRuSH.RuSH - DEBUG - \t129-130:1.0\t                   Ms. ABCD is a 69-year-old lady, who was admitted to the hospital with chest pain and respiratory insufficiency<.>\t[Rule 404:\t\\c\\c(.)\\s+\\C\tstend\t2.0\tACTUAL]\n",
      "2025-08-25 01:16:56,463 - PyRuSH.RuSH - DEBUG - \t187-188:1.0\t                   Ms. ABCD is a 69-year-old lady, who was admitted to the hospital with chest pain and respiratory insufficiency.  She has chronic lung disease with bronchospastic angina<.>\t[Rule 417:\t\\c(.)\\n\tstend\t2.0\tACTUAL]\n",
      "2025-08-25 01:16:56,466 - PyRuSH.RuSH - DEBUG - \t238-239:1.0\t                   Ms. ABCD is a 69-year-old lady, who was admitted to the hospital with chest pain and respiratory insufficiency.  She has chronic lung disease with bronchospastic angina. We discovered new T-wave abnormalities on her EKG<.>\t[Rule 413:\t\\C\\C\\C(.)\\s+\\C\\c\tstend\t2.0\tACTUAL]\n",
      "2025-08-25 01:16:56,467 - PyRuSH.RuSH - DEBUG - \t297-298:1.0\t                   Ms. ABCD is a 69-year-old lady, who was admitted to the hospital with chest pain and respiratory insufficiency.  She has chronic lung disease with bronchospastic angina. We discovered new T-wave abnormalities on her EKG.  There was of course a four-vessel bypass surgery in 2001<.>\t[Rule 347:\t\\d(.)\\s+\\C\tstend\t2.0\tACTUAL]\n",
      "2025-08-25 01:16:56,468 - PyRuSH.RuSH - DEBUG - \t327-328:1.0\t                   Ms. ABCD is a 69-year-old lady, who was admitted to the hospital with chest pain and respiratory insufficiency.  She has chronic lung disease with bronchospastic angina. We discovered new T-wave abnormalities on her EKG.  There was of course a four-vessel bypass surgery in 2001.  We did a coronary angiogram<.>\t[Rule 404:\t\\c\\c(.)\\s+\\C\tstend\t2.0\tACTUAL]\n",
      "2025-08-25 01:16:56,469 - PyRuSH.RuSH - DEBUG - \t374-375:1.0\t                   Ms. ABCD is a 69-year-old lady, who was admitted to the hospital with chest pain and respiratory insufficiency.  She has chronic lung disease with bronchospastic angina. We discovered new T-wave abnormalities on her EKG.  There was of course a four-vessel bypass surgery in 2001.  We did a coronary angiogram.    This should be increased up to 25 mg b.i.d<.>\t[Rule 311:\t\\a(.) +\tstend\t2.0\tACTUAL]\n",
      "2025-08-25 01:16:56,470 - PyRuSH.RuSH - DEBUG - \t425-426:1.0\t                   Ms. ABCD is a 69-year-old lady, who was admitted to the hospital with chest pain and respiratory insufficiency.  She has chronic lung disease with bronchospastic angina. We discovered new T-wave abnormalities on her EKG.  There was of course a four-vessel bypass surgery in 2001.  We did a coronary angiogram.    This should be increased up to 25 mg b.i.d. as preferred antihypertensive in this lady's case<.>\t[Rule 404:\t\\c\\c(.)\\s+\\C\tstend\t2.0\tACTUAL]\n",
      "2025-08-25 01:16:56,470 - PyRuSH.RuSH - DEBUG - \t459-460:1.0\t                   Ms. ABCD is a 69-year-old lady, who was admitted to the hospital with chest pain and respiratory insufficiency.  She has chronic lung disease with bronchospastic angina. We discovered new T-wave abnormalities on her EKG.  There was of course a four-vessel bypass surgery in 2001.  We did a coronary angiogram.    This should be increased up to 25 mg b.i.d. as preferred antihypertensive in this lady's case.  She also is on an ACE inhibitor<.>\t[Rule 417:\t\\c(.)\\n\tstend\t2.0\tACTUAL]\n",
      "2025-08-25 01:16:56,470 - PyRuSH.RuSH - DEBUG - \t497-498:1.0\t                   Ms. ABCD is a 69-year-old lady, who was admitted to the hospital with chest pain and respiratory insufficiency.  She has chronic lung disease with bronchospastic angina. We discovered new T-wave abnormalities on her EKG.  There was of course a four-vessel bypass surgery in 2001.  We did a coronary angiogram.    This should be increased up to 25 mg b.i.d. as preferred antihypertensive in this lady's case.  She also is on an ACE inhibitor. So her discharge meds are as follows<:>\t[Rule 407:\t\\c(:)\\n\tstend\t2.0\tACTUAL]\n",
      "2025-08-25 01:16:56,472 - PyRuSH.RuSH - DEBUG - Sentence(19-130):\t>Ms. ABCD is a 69-year-old lady, who was admitted to the hospital with chest pain and respiratory insufficiency.<\n",
      "2025-08-25 01:16:56,475 - PyRuSH.RuSH - DEBUG - Sentence(132-188):\t>She has chronic lung disease with bronchospastic angina.<\n",
      "2025-08-25 01:16:56,477 - PyRuSH.RuSH - DEBUG - Sentence(189-239):\t>We discovered new T-wave abnormalities on her EKG.<\n",
      "2025-08-25 01:16:56,478 - PyRuSH.RuSH - DEBUG - Sentence(241-298):\t>There was of course a four-vessel bypass surgery in 2001.<\n",
      "2025-08-25 01:16:56,481 - PyRuSH.RuSH - DEBUG - Sentence(300-328):\t>We did a coronary angiogram.<\n",
      "2025-08-25 01:16:56,482 - PyRuSH.RuSH - DEBUG - Sentence(332-426):\t>This should be increased up to 25 mg b.i.d. as preferred antihypertensive in this lady's case.<\n",
      "2025-08-25 01:16:56,483 - PyRuSH.RuSH - DEBUG - Sentence(428-460):\t>She also is on an ACE inhibitor.<\n",
      "2025-08-25 01:16:56,484 - PyRuSH.RuSH - DEBUG - Sentence(461-498):\t>So her discharge meds are as follows:<\n",
      "2025-08-25 01:16:56,484 - PyRuSH.RuSH - DEBUG - Sentence(499-523):\t>1.  Coreg 6.25 mg b.i.d.<\n"
     ]
    }
   ],
   "source": [
    "sents=rush.segToSentenceSpans(input_str)\n",
    "# 2025-08-24 23:45:48,415 - PyRuSH.RuSH - DEBUG - Sentence(19-130):\t>Ms. ABCD is a 69-year-old lady, who was admitted to the hospital with chest pain and respiratory insufficiency.<\n",
    "# 2025-08-24 23:45:48,416 - PyRuSH.RuSH - DEBUG - Sentence(132-188):\t>She has chronic lung disease with bronchospastic angina.<\n",
    "# 2025-08-24 23:45:48,416 - PyRuSH.RuSH - DEBUG - Sentence(189-239):\t>We discovered new T-wave abnormalities on her EKG.<\n",
    "# 2025-08-24 23:45:48,420 - PyRuSH.RuSH - DEBUG - Sentence(241-298):\t>There was of course a four-vessel bypass surgery in 2001.<\n",
    "# 2025-08-24 23:45:48,420 - PyRuSH.RuSH - DEBUG - Sentence(300-328):\t>We did a coronary angiogram.<\n",
    "# 2025-08-24 23:45:48,421 - PyRuSH.RuSH - DEBUG - Sentence(332-426):\t>This should be increased up to 25 mg b.i.d. as preferred antihypertensive in this lady's case.<\n",
    "# 2025-08-24 23:45:48,421 - PyRuSH.RuSH - DEBUG - Sentence(428-460):\t>She also is on an ACE inhibitor.<\n",
    "# 2025-08-24 23:45:48,422 - PyRuSH.RuSH - DEBUG - Sentence(461-498):\t>So her discharge meds are as follows:<\n",
    "# 2025-08-24 23:45:48,422 - PyRuSH.RuSH - DEBUG - Sentence(499-523):\t>1.  Coreg 6.25 mg b.i.d.<"
   ]
  },
  {
   "cell_type": "code",
   "execution_count": 9,
   "id": "52bdf6d1",
   "metadata": {},
   "outputs": [
    {
     "name": "stdout",
     "output_type": "stream",
     "text": [
      "PyRuSH.RuSH - DEBUG - Sentence(0-19):\t>                   <\n",
      "PyRuSH.RuSH - DEBUG - Sentence(19-130):\t>Ms. ABCD is a 69-year-old lady, who was admitted to the hospital with chest pain and respiratory insufficiency.<\n",
      "PyRuSH.RuSH - DEBUG - Sentence(131-132):\t> <\n",
      "PyRuSH.RuSH - DEBUG - Sentence(132-188):\t>She has chronic lung disease with bronchospastic angina.<\n",
      "PyRuSH.RuSH - DEBUG - Sentence(188-189):\t> <\n",
      "PyRuSH.RuSH - DEBUG - Sentence(189-239):\t>We discovered new T-wave abnormalities on her EKG.<\n",
      "PyRuSH.RuSH - DEBUG - Sentence(240-241):\t> <\n",
      "PyRuSH.RuSH - DEBUG - Sentence(241-298):\t>There was of course a four-vessel bypass surgery in 2001.<\n",
      "PyRuSH.RuSH - DEBUG - Sentence(299-300):\t> <\n",
      "PyRuSH.RuSH - DEBUG - Sentence(300-328):\t>We did a coronary angiogram.<\n",
      "PyRuSH.RuSH - DEBUG - Sentence(329-330):\t> <\n",
      "PyRuSH.RuSH - DEBUG - Sentence(330-442):\t>This demonstrated patent vein grafts and patent internal mammary vessel and so there was no obvious new disease.<\n",
      "PyRuSH.RuSH - DEBUG - Sentence(442-443):\t> <\n",
      "PyRuSH.RuSH - DEBUG - Sentence(443-550):\t>She may continue in the future to have angina and she will have nitroglycerin available for that if needed.<\n",
      "PyRuSH.RuSH - DEBUG - Sentence(550-551):\t> <\n",
      "PyRuSH.RuSH - DEBUG - Sentence(551-661):\t>Her blood pressure has been elevated and so instead of metoprolol, we have started her on Coreg 6.25 mg b.i.d.<\n",
      "PyRuSH.RuSH - DEBUG - Sentence(662-663):\t> <\n",
      "PyRuSH.RuSH - DEBUG - Sentence(663-757):\t>This should be increased up to 25 mg b.i.d. as preferred antihypertensive in this lady's case.<\n",
      "PyRuSH.RuSH - DEBUG - Sentence(758-759):\t> <\n",
      "PyRuSH.RuSH - DEBUG - Sentence(759-791):\t>She also is on an ACE inhibitor.<\n",
      "PyRuSH.RuSH - DEBUG - Sentence(791-792):\t> <\n",
      "PyRuSH.RuSH - DEBUG - Sentence(792-829):\t>So her discharge meds are as follows:<\n",
      "PyRuSH.RuSH - DEBUG - Sentence(829-830):\t> <\n",
      "PyRuSH.RuSH - DEBUG - Sentence(830-854):\t>1.  Coreg 6.25 mg b.i.d.<\n",
      "PyRuSH.RuSH - DEBUG - Sentence(854-855):\t> <\n",
      "PyRuSH.RuSH - DEBUG - Sentence(855-885):\t>2.  Simvastatin 40 mg nightly.<\n",
      "PyRuSH.RuSH - DEBUG - Sentence(885-886):\t> <\n",
      "PyRuSH.RuSH - DEBUG - Sentence(886-912):\t>3.  Lisinopril 5 mg b.i.d.<\n",
      "PyRuSH.RuSH - DEBUG - Sentence(912-913):\t> <\n",
      "PyRuSH.RuSH - DEBUG - Sentence(913-936):\t>4.  Protonix 40 mg a.m.<\n",
      "PyRuSH.RuSH - DEBUG - Sentence(936-937):\t> <\n",
      "PyRuSH.RuSH - DEBUG - Sentence(937-962):\t>5.  Aspirin 160 mg a day.<\n",
      "PyRuSH.RuSH - DEBUG - Sentence(962-963):\t> <\n",
      "PyRuSH.RuSH - DEBUG - Sentence(963-985):\t>6.  Lasix 20 mg b.i.d.<\n",
      "PyRuSH.RuSH - DEBUG - Sentence(985-986):\t> <\n",
      "PyRuSH.RuSH - DEBUG - Sentence(986-1009):\t>7.  Spiriva puff daily.<\n",
      "PyRuSH.RuSH - DEBUG - Sentence(1009-1010):\t> <\n",
      "PyRuSH.RuSH - DEBUG - Sentence(1010-1037):\t>8.  Albuterol p.r.n. q.i.d.<\n",
      "PyRuSH.RuSH - DEBUG - Sentence(1037-1038):\t> <\n",
      "PyRuSH.RuSH - DEBUG - Sentence(1038-1067):\t>9.  Advair 500/50 puff b.i.d.<\n",
      "PyRuSH.RuSH - DEBUG - Sentence(1067-1068):\t> <\n",
      "PyRuSH.RuSH - DEBUG - Sentence(1068-1098):\t>10.  Xopenex q.i.d. and p.r.n.<\n",
      "PyRuSH.RuSH - DEBUG - Sentence(1098-1099):\t> <\n",
      "PyRuSH.RuSH - DEBUG - Sentence(1099-1138):\t>I will see her in a month to six weeks.<\n",
      "PyRuSH.RuSH - DEBUG - Sentence(1139-1140):\t> <\n",
      "PyRuSH.RuSH - DEBUG - Sentence(1140-1183):\t>She is to follow up with Dr. X before that.<\n",
      "PyRuSH.RuSH - DEBUG - Sentence(1183-1193):\t>     Ezoic<\n",
      "PyRuSH.RuSH - DEBUG - Sentence(1194-1247):\t>- MTSam Sample Bottom Matched Content - native_bottom<\n",
      "PyRuSH.RuSH - DEBUG - Sentence(1248-1263):\t>      End Ezoic<\n",
      "PyRuSH.RuSH - DEBUG - Sentence(1264-1318):\t>- MTSam Sample Bottom Matched Content - native_bottom <\n"
     ]
    }
   ],
   "source": [
    "\n",
    "nlp = English()\n",
    "nlp.add_pipe(\"medspacy_pyrush\")\n",
    "doc = nlp(input_str)\n",
    "for sent in doc.sents:\n",
    "    start = sent.start_char\n",
    "    end = sent.end_char\n",
    "    print(f\"PyRuSH.RuSH - DEBUG - Sentence({start}-{end}):\\t>{str(sent)}<\".replace('\\n',' '))"
   ]
  },
  {
   "cell_type": "code",
   "execution_count": 10,
   "id": "e5f9fe60",
   "metadata": {},
   "outputs": [
    {
     "data": {
      "text/plain": [
       "50"
      ]
     },
     "execution_count": 10,
     "metadata": {},
     "output_type": "execute_result"
    }
   ],
   "source": [
    "len(list(doc.sents))"
   ]
  },
  {
   "cell_type": "code",
   "execution_count": 4,
   "id": "6f21337d",
   "metadata": {},
   "outputs": [
    {
     "name": "stdout",
     "output_type": "stream",
     "text": [
      ">        \n",
      "\n",
      "\n",
      "        <\n",
      "----\n",
      "\n",
      ">Ms. ABCD is a 69-year-old lady, who was admitted to the hospital with chest pain and respiratory insufficiency.<\n",
      "----\n",
      "\n",
      "> <\n",
      "----\n",
      "\n",
      ">She has chronic lung disease with bronchospastic angina.<\n",
      "----\n",
      "\n",
      ">\n",
      "<\n",
      "----\n",
      "\n",
      ">We discovered new T-wave abnormalities on her EKG.<\n",
      "----\n",
      "\n",
      "> <\n",
      "----\n",
      "\n",
      ">There was of course a four-vessel bypass surgery in 2001.<\n",
      "----\n",
      "\n",
      "> <\n",
      "----\n",
      "\n",
      ">We did a coronary angiogram.<\n",
      "----\n",
      "\n",
      ">\n",
      "\n",
      "<\n",
      "----\n",
      "\n"
     ]
    }
   ],
   "source": [
    "input_str = '''        \n",
    "\n",
    "\n",
    "        Ms. ABCD is a 69-year-old lady, who was admitted to the hospital with chest pain and respiratory insufficiency.  She has chronic lung disease with bronchospastic angina.\n",
    "We discovered new T-wave abnormalities on her EKG.  There was of course a four-vessel bypass surgery in 2001.  We did a coronary angiogram. \n",
    "\n",
    "'''\n",
    "from PyRuSH.RuSH import initLogger\n",
    "initLogger()\n",
    "nlp = English()\n",
    "nlp.add_pipe(\"medspacy_pyrush\")\n",
    "doc = nlp(input_str)\n",
    "sents = [s for s in doc.sents]\n",
    "for sent in sents:\n",
    "    print('>' + str(sent) + '<\\n----\\n')"
   ]
  },
  {
   "cell_type": "code",
   "execution_count": null,
   "id": "5cf31051",
   "metadata": {},
   "outputs": [],
   "source": []
  }
 ],
 "metadata": {
  "kernelspec": {
   "display_name": "base",
   "language": "python",
   "name": "python3"
  },
  "language_info": {
   "codemirror_mode": {
    "name": "ipython",
    "version": 3
   },
   "file_extension": ".py",
   "mimetype": "text/x-python",
   "name": "python",
   "nbconvert_exporter": "python",
   "pygments_lexer": "ipython3",
   "version": "3.12.11"
  }
 },
 "nbformat": 4,
 "nbformat_minor": 5
}
