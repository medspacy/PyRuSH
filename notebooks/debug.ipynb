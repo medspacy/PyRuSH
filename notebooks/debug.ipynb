{
 "cells": [
  {
   "cell_type": "code",
   "execution_count": 1,
   "id": "a297d69d",
   "metadata": {},
   "outputs": [],
   "source": [
    "\n",
    "from PyRuSH import PyRuSHSentencizer\n",
    "from spacy.lang.en import English\n",
    "from PyRuSH import RuSH\n",
    "import os"
   ]
  },
  {
   "cell_type": "code",
   "execution_count": 2,
   "id": "c9128bb3",
   "metadata": {},
   "outputs": [
    {
     "name": "stdout",
     "output_type": "stream",
     "text": [
      "0\n"
     ]
    }
   ],
   "source": [
    "rush = RuSH(os.path.join('../conf/rush_rules.tsv'), enable_logger=True)"
   ]
  },
  {
   "cell_type": "code",
   "execution_count": 3,
   "id": "81ef94a6",
   "metadata": {},
   "outputs": [],
   "source": [
    "input_str = '''        \n",
    "\n",
    "        \n",
    "        Ms. ABCD is a 69-year-old lady, who was admitted to the hospital with chest pain and respiratory insufficiency.  She has chronic lung disease with bronchospastic angina.\n",
    "We discovered new T-wave abnormalities on her EKG.  There was of course a four-vessel bypass surgery in 2001.  We did a coronary angiogram.  This demonstrated patent vein grafts and patent internal mammary vessel and so there was no obvious new disease.\n",
    "She may continue in the future to have angina and she will have nitroglycerin available for that if needed.\n",
    "Her blood pressure has been elevated and so instead of metoprolol, we have started her on Coreg 6.25 mg b.i.d.  This should be increased up to 25 mg b.i.d. as preferred antihypertensive in this lady's case.  She also is on an ACE inhibitor.\n",
    "So her discharge meds are as follows:\n",
    "1.  Coreg 6.25 mg b.i.d.\n",
    "2.  Simvastatin 40 mg nightly.\n",
    "3.  Lisinopril 5 mg b.i.d.\n",
    "4.  Protonix 40 mg a.m.\n",
    "5.  Aspirin 160 mg a day.\n",
    "6.  Lasix 20 mg b.i.d.\n",
    "7.  Spiriva puff daily.\n",
    "8.  Albuterol p.r.n. q.i.d.\n",
    "9.  Advair 500/50 puff b.i.d.\n",
    "10.  Xopenex q.i.d. and p.r.n.\n",
    "I will see her in a month to six weeks.  She is to follow up with Dr. X before that.\n",
    "        \n",
    "\n",
    "\n",
    " Ezoic - MTSam Sample Bottom Matched Content - native_bottom \n",
    "\n",
    "\n",
    "\n",
    "\n",
    " End Ezoic - MTSam Sample Bottom Matched Content - native_bottom\n",
    "'''"
   ]
  },
  {
   "cell_type": "code",
   "execution_count": 4,
   "id": "2f8f59b4",
   "metadata": {},
   "outputs": [
    {
     "name": "stdout",
     "output_type": "stream",
     "text": [
      "2025-08-31 20:58:16,934 - PyRuSH.RuSH - DEBUG - stbegin\n",
      "2025-08-31 20:58:16,934 - PyRuSH.RuSH - DEBUG - \t140-144:1.0\t                           Ms. ABCD is a 69-year-old lady, who was admitted to the hospital with chest pain and respiratory insufficiency.  <S>\t[Rule 959:\t.\\w+(She \tstbegin\t0.0\tACTUAL]\n",
      "2025-08-31 20:58:16,934 - PyRuSH.RuSH - DEBUG - \t197-200:1.0\t                           Ms. ABCD is a 69-year-old lady, who was admitted to the hospital with chest pain and respiratory insufficiency.  She has chronic lung disease with bronchospastic angina. <W>\t[Rule 960:\t.\\w+(We \tstbegin\t0.0\tACTUAL]\n",
      "2025-08-31 20:58:16,934 - PyRuSH.RuSH - DEBUG - \t249-252:1.0\t                           Ms. ABCD is a 69-year-old lady, who was admitted to the hospital with chest pain and respiratory insufficiency.  She has chronic lung disease with bronchospastic angina. We discovered new T-wave abnormalities on her EKG.  <T>\t[Rule 571:\t.\\s+(The\tstbegin\t0.0\tACTUAL]\n",
      "2025-08-31 20:58:16,934 - PyRuSH.RuSH - DEBUG - \t308-311:1.0\t                           Ms. ABCD is a 69-year-old lady, who was admitted to the hospital with chest pain and respiratory insufficiency.  She has chronic lung disease with bronchospastic angina. We discovered new T-wave abnormalities on her EKG.  There was of course a four-vessel bypass surgery in 2001.  <W>\t[Rule 960:\t.\\w+(We \tstbegin\t0.0\tACTUAL]\n",
      "2025-08-31 20:58:16,934 - PyRuSH.RuSH - DEBUG - \t338-343:1.0\t                           Ms. ABCD is a 69-year-old lady, who was admitted to the hospital with chest pain and respiratory insufficiency.  She has chronic lung disease with bronchospastic angina. We discovered new T-wave abnormalities on her EKG.  There was of course a four-vessel bypass surgery in 2001.  We did a coronary angiogram.  <T>\t[Rule 970:\t.\\w+(This \tstbegin\t0.0\tACTUAL]\n",
      "2025-08-31 20:58:16,941 - PyRuSH.RuSH - DEBUG - \t451-455:1.0\t                           Ms. ABCD is a 69-year-old lady, who was admitted to the hospital with chest pain and respiratory insufficiency.  She has chronic lung disease with bronchospastic angina. We discovered new T-wave abnormalities on her EKG.  There was of course a four-vessel bypass surgery in 2001.  We did a coronary angiogram.  This demonstrated patent vein grafts and patent internal mammary vessel and so there was no obvious new disease. <S>\t[Rule 959:\t.\\w+(She \tstbegin\t0.0\tACTUAL]\n",
      "2025-08-31 20:58:16,941 - PyRuSH.RuSH - DEBUG - \t559-563:1.0\t                           Ms. ABCD is a 69-year-old lady, who was admitted to the hospital with chest pain and respiratory insufficiency.  She has chronic lung disease with bronchospastic angina. We discovered new T-wave abnormalities on her EKG.  There was of course a four-vessel bypass surgery in 2001.  We did a coronary angiogram.  This demonstrated patent vein grafts and patent internal mammary vessel and so there was no obvious new disease. She may continue in the future to have angina and she will have nitroglycerin available for that if needed. <H>\t[Rule 958:\t.\\w+(Her \tstbegin\t0.0\tACTUAL]\n",
      "2025-08-31 20:58:16,941 - PyRuSH.RuSH - DEBUG - \t671-676:1.0\t                           Ms. ABCD is a 69-year-old lady, who was admitted to the hospital with chest pain and respiratory insufficiency.  She has chronic lung disease with bronchospastic angina. We discovered new T-wave abnormalities on her EKG.  There was of course a four-vessel bypass surgery in 2001.  We did a coronary angiogram.  This demonstrated patent vein grafts and patent internal mammary vessel and so there was no obvious new disease. She may continue in the future to have angina and she will have nitroglycerin available for that if needed. Her blood pressure has been elevated and so instead of metoprolol, we have started her on Coreg 6.25 mg b.i.d.  <T>\t[Rule 970:\t.\\w+(This \tstbegin\t0.0\tACTUAL]\n",
      "2025-08-31 20:58:16,941 - PyRuSH.RuSH - DEBUG - \t767-771:1.0\t                           Ms. ABCD is a 69-year-old lady, who was admitted to the hospital with chest pain and respiratory insufficiency.  She has chronic lung disease with bronchospastic angina. We discovered new T-wave abnormalities on her EKG.  There was of course a four-vessel bypass surgery in 2001.  We did a coronary angiogram.  This demonstrated patent vein grafts and patent internal mammary vessel and so there was no obvious new disease. She may continue in the future to have angina and she will have nitroglycerin available for that if needed. Her blood pressure has been elevated and so instead of metoprolol, we have started her on Coreg 6.25 mg b.i.d.  This should be increased up to 25 mg b.i.d. as preferred antihypertensive in this lady's case.  <S>\t[Rule 959:\t.\\w+(She \tstbegin\t0.0\tACTUAL]\n",
      "2025-08-31 20:58:16,941 - PyRuSH.RuSH - DEBUG - \t800-801:1.0\t                           Ms. ABCD is a 69-year-old lady, who was admitted to the hospital with chest pain and respiratory insufficiency.  She has chronic lung disease with bronchospastic angina. We discovered new T-wave abnormalities on her EKG.  There was of course a four-vessel bypass surgery in 2001.  We did a coronary angiogram.  This demonstrated patent vein grafts and patent internal mammary vessel and so there was no obvious new disease. She may continue in the future to have angina and she will have nitroglycerin available for that if needed. Her blood pressure has been elevated and so instead of metoprolol, we have started her on Coreg 6.25 mg b.i.d.  This should be increased up to 25 mg b.i.d. as preferred antihypertensive in this lady's case.  She also is on an ACE inhibitor. <S>\t[Rule 210:\t\\n+(\\C)\tstbegin\t0.0\tACTUAL]\n",
      "2025-08-31 20:58:16,941 - PyRuSH.RuSH - DEBUG - \t838-843:1.0\t                           Ms. ABCD is a 69-year-old lady, who was admitted to the hospital with chest pain and respiratory insufficiency.  She has chronic lung disease with bronchospastic angina. We discovered new T-wave abnormalities on her EKG.  There was of course a four-vessel bypass surgery in 2001.  We did a coronary angiogram.  This demonstrated patent vein grafts and patent internal mammary vessel and so there was no obvious new disease. She may continue in the future to have angina and she will have nitroglycerin available for that if needed. Her blood pressure has been elevated and so instead of metoprolol, we have started her on Coreg 6.25 mg b.i.d.  This should be increased up to 25 mg b.i.d. as preferred antihypertensive in this lady's case.  She also is on an ACE inhibitor. So her discharge meds are as follows: <1>\t[Rule 790:\t\\a\\n+(\\d.\\s+\\C\tstbegin\t0.0\tACTUAL]\n",
      "2025-08-31 20:58:16,934 - PyRuSH.RuSH - DEBUG - \t140-144:1.0\t                           Ms. ABCD is a 69-year-old lady, who was admitted to the hospital with chest pain and respiratory insufficiency.  <S>\t[Rule 959:\t.\\w+(She \tstbegin\t0.0\tACTUAL]\n",
      "2025-08-31 20:58:16,934 - PyRuSH.RuSH - DEBUG - \t197-200:1.0\t                           Ms. ABCD is a 69-year-old lady, who was admitted to the hospital with chest pain and respiratory insufficiency.  She has chronic lung disease with bronchospastic angina. <W>\t[Rule 960:\t.\\w+(We \tstbegin\t0.0\tACTUAL]\n",
      "2025-08-31 20:58:16,934 - PyRuSH.RuSH - DEBUG - \t249-252:1.0\t                           Ms. ABCD is a 69-year-old lady, who was admitted to the hospital with chest pain and respiratory insufficiency.  She has chronic lung disease with bronchospastic angina. We discovered new T-wave abnormalities on her EKG.  <T>\t[Rule 571:\t.\\s+(The\tstbegin\t0.0\tACTUAL]\n",
      "2025-08-31 20:58:16,934 - PyRuSH.RuSH - DEBUG - \t308-311:1.0\t                           Ms. ABCD is a 69-year-old lady, who was admitted to the hospital with chest pain and respiratory insufficiency.  She has chronic lung disease with bronchospastic angina. We discovered new T-wave abnormalities on her EKG.  There was of course a four-vessel bypass surgery in 2001.  <W>\t[Rule 960:\t.\\w+(We \tstbegin\t0.0\tACTUAL]\n",
      "2025-08-31 20:58:16,934 - PyRuSH.RuSH - DEBUG - \t338-343:1.0\t                           Ms. ABCD is a 69-year-old lady, who was admitted to the hospital with chest pain and respiratory insufficiency.  She has chronic lung disease with bronchospastic angina. We discovered new T-wave abnormalities on her EKG.  There was of course a four-vessel bypass surgery in 2001.  We did a coronary angiogram.  <T>\t[Rule 970:\t.\\w+(This \tstbegin\t0.0\tACTUAL]\n",
      "2025-08-31 20:58:16,941 - PyRuSH.RuSH - DEBUG - \t451-455:1.0\t                           Ms. ABCD is a 69-year-old lady, who was admitted to the hospital with chest pain and respiratory insufficiency.  She has chronic lung disease with bronchospastic angina. We discovered new T-wave abnormalities on her EKG.  There was of course a four-vessel bypass surgery in 2001.  We did a coronary angiogram.  This demonstrated patent vein grafts and patent internal mammary vessel and so there was no obvious new disease. <S>\t[Rule 959:\t.\\w+(She \tstbegin\t0.0\tACTUAL]\n",
      "2025-08-31 20:58:16,941 - PyRuSH.RuSH - DEBUG - \t559-563:1.0\t                           Ms. ABCD is a 69-year-old lady, who was admitted to the hospital with chest pain and respiratory insufficiency.  She has chronic lung disease with bronchospastic angina. We discovered new T-wave abnormalities on her EKG.  There was of course a four-vessel bypass surgery in 2001.  We did a coronary angiogram.  This demonstrated patent vein grafts and patent internal mammary vessel and so there was no obvious new disease. She may continue in the future to have angina and she will have nitroglycerin available for that if needed. <H>\t[Rule 958:\t.\\w+(Her \tstbegin\t0.0\tACTUAL]\n",
      "2025-08-31 20:58:16,941 - PyRuSH.RuSH - DEBUG - \t671-676:1.0\t                           Ms. ABCD is a 69-year-old lady, who was admitted to the hospital with chest pain and respiratory insufficiency.  She has chronic lung disease with bronchospastic angina. We discovered new T-wave abnormalities on her EKG.  There was of course a four-vessel bypass surgery in 2001.  We did a coronary angiogram.  This demonstrated patent vein grafts and patent internal mammary vessel and so there was no obvious new disease. She may continue in the future to have angina and she will have nitroglycerin available for that if needed. Her blood pressure has been elevated and so instead of metoprolol, we have started her on Coreg 6.25 mg b.i.d.  <T>\t[Rule 970:\t.\\w+(This \tstbegin\t0.0\tACTUAL]\n",
      "2025-08-31 20:58:16,941 - PyRuSH.RuSH - DEBUG - \t767-771:1.0\t                           Ms. ABCD is a 69-year-old lady, who was admitted to the hospital with chest pain and respiratory insufficiency.  She has chronic lung disease with bronchospastic angina. We discovered new T-wave abnormalities on her EKG.  There was of course a four-vessel bypass surgery in 2001.  We did a coronary angiogram.  This demonstrated patent vein grafts and patent internal mammary vessel and so there was no obvious new disease. She may continue in the future to have angina and she will have nitroglycerin available for that if needed. Her blood pressure has been elevated and so instead of metoprolol, we have started her on Coreg 6.25 mg b.i.d.  This should be increased up to 25 mg b.i.d. as preferred antihypertensive in this lady's case.  <S>\t[Rule 959:\t.\\w+(She \tstbegin\t0.0\tACTUAL]\n",
      "2025-08-31 20:58:16,941 - PyRuSH.RuSH - DEBUG - \t800-801:1.0\t                           Ms. ABCD is a 69-year-old lady, who was admitted to the hospital with chest pain and respiratory insufficiency.  She has chronic lung disease with bronchospastic angina. We discovered new T-wave abnormalities on her EKG.  There was of course a four-vessel bypass surgery in 2001.  We did a coronary angiogram.  This demonstrated patent vein grafts and patent internal mammary vessel and so there was no obvious new disease. She may continue in the future to have angina and she will have nitroglycerin available for that if needed. Her blood pressure has been elevated and so instead of metoprolol, we have started her on Coreg 6.25 mg b.i.d.  This should be increased up to 25 mg b.i.d. as preferred antihypertensive in this lady's case.  She also is on an ACE inhibitor. <S>\t[Rule 210:\t\\n+(\\C)\tstbegin\t0.0\tACTUAL]\n",
      "2025-08-31 20:58:16,941 - PyRuSH.RuSH - DEBUG - \t838-843:1.0\t                           Ms. ABCD is a 69-year-old lady, who was admitted to the hospital with chest pain and respiratory insufficiency.  She has chronic lung disease with bronchospastic angina. We discovered new T-wave abnormalities on her EKG.  There was of course a four-vessel bypass surgery in 2001.  We did a coronary angiogram.  This demonstrated patent vein grafts and patent internal mammary vessel and so there was no obvious new disease. She may continue in the future to have angina and she will have nitroglycerin available for that if needed. Her blood pressure has been elevated and so instead of metoprolol, we have started her on Coreg 6.25 mg b.i.d.  This should be increased up to 25 mg b.i.d. as preferred antihypertensive in this lady's case.  She also is on an ACE inhibitor. So her discharge meds are as follows: <1>\t[Rule 790:\t\\a\\n+(\\d.\\s+\\C\tstbegin\t0.0\tACTUAL]\n",
      "2025-08-31 20:58:16,946 - PyRuSH.RuSH - DEBUG - \t863-868:1.0\t                           Ms. ABCD is a 69-year-old lady, who was admitted to the hospital with chest pain and respiratory insufficiency.  She has chronic lung disease with bronchospastic angina. We discovered new T-wave abnormalities on her EKG.  There was of course a four-vessel bypass surgery in 2001.  We did a coronary angiogram.  This demonstrated patent vein grafts and patent internal mammary vessel and so there was no obvious new disease. She may continue in the future to have angina and she will have nitroglycerin available for that if needed. Her blood pressure has been elevated and so instead of metoprolol, we have started her on Coreg 6.25 mg b.i.d.  This should be increased up to 25 mg b.i.d. as preferred antihypertensive in this lady's case.  She also is on an ACE inhibitor. So her discharge meds are as follows: 1.  Coreg 6.25 mg b.i.d. <2>\t[Rule 790:\t\\a\\n+(\\d.\\s+\\C\tstbegin\t0.0\tACTUAL]\n",
      "2025-08-31 20:58:16,946 - PyRuSH.RuSH - DEBUG - \t894-899:1.0\t                           Ms. ABCD is a 69-year-old lady, who was admitted to the hospital with chest pain and respiratory insufficiency.  She has chronic lung disease with bronchospastic angina. We discovered new T-wave abnormalities on her EKG.  There was of course a four-vessel bypass surgery in 2001.  We did a coronary angiogram.  This demonstrated patent vein grafts and patent internal mammary vessel and so there was no obvious new disease. She may continue in the future to have angina and she will have nitroglycerin available for that if needed. Her blood pressure has been elevated and so instead of metoprolol, we have started her on Coreg 6.25 mg b.i.d.  This should be increased up to 25 mg b.i.d. as preferred antihypertensive in this lady's case.  She also is on an ACE inhibitor. So her discharge meds are as follows: 1.  Coreg 6.25 mg b.i.d. 2.  Simvastatin 40 mg nightly. <3>\t[Rule 790:\t\\a\\n+(\\d.\\s+\\C\tstbegin\t0.0\tACTUAL]\n",
      "2025-08-31 20:58:16,948 - PyRuSH.RuSH - DEBUG - \t921-926:1.0\t                           Ms. ABCD is a 69-year-old lady, who was admitted to the hospital with chest pain and respiratory insufficiency.  She has chronic lung disease with bronchospastic angina. We discovered new T-wave abnormalities on her EKG.  There was of course a four-vessel bypass surgery in 2001.  We did a coronary angiogram.  This demonstrated patent vein grafts and patent internal mammary vessel and so there was no obvious new disease. She may continue in the future to have angina and she will have nitroglycerin available for that if needed. Her blood pressure has been elevated and so instead of metoprolol, we have started her on Coreg 6.25 mg b.i.d.  This should be increased up to 25 mg b.i.d. as preferred antihypertensive in this lady's case.  She also is on an ACE inhibitor. So her discharge meds are as follows: 1.  Coreg 6.25 mg b.i.d. 2.  Simvastatin 40 mg nightly. 3.  Lisinopril 5 mg b.i.d. <4>\t[Rule 790:\t\\a\\n+(\\d.\\s+\\C\tstbegin\t0.0\tACTUAL]\n",
      "2025-08-31 20:58:16,950 - PyRuSH.RuSH - DEBUG - \t945-950:1.0\t                           Ms. ABCD is a 69-year-old lady, who was admitted to the hospital with chest pain and respiratory insufficiency.  She has chronic lung disease with bronchospastic angina. We discovered new T-wave abnormalities on her EKG.  There was of course a four-vessel bypass surgery in 2001.  We did a coronary angiogram.  This demonstrated patent vein grafts and patent internal mammary vessel and so there was no obvious new disease. She may continue in the future to have angina and she will have nitroglycerin available for that if needed. Her blood pressure has been elevated and so instead of metoprolol, we have started her on Coreg 6.25 mg b.i.d.  This should be increased up to 25 mg b.i.d. as preferred antihypertensive in this lady's case.  She also is on an ACE inhibitor. So her discharge meds are as follows: 1.  Coreg 6.25 mg b.i.d. 2.  Simvastatin 40 mg nightly. 3.  Lisinopril 5 mg b.i.d. 4.  Protonix 40 mg a.m. <5>\t[Rule 790:\t\\a\\n+(\\d.\\s+\\C\tstbegin\t0.0\tACTUAL]\n",
      "2025-08-31 20:58:16,950 - PyRuSH.RuSH - DEBUG - \t971-976:1.0\t                           Ms. ABCD is a 69-year-old lady, who was admitted to the hospital with chest pain and respiratory insufficiency.  She has chronic lung disease with bronchospastic angina. We discovered new T-wave abnormalities on her EKG.  There was of course a four-vessel bypass surgery in 2001.  We did a coronary angiogram.  This demonstrated patent vein grafts and patent internal mammary vessel and so there was no obvious new disease. She may continue in the future to have angina and she will have nitroglycerin available for that if needed. Her blood pressure has been elevated and so instead of metoprolol, we have started her on Coreg 6.25 mg b.i.d.  This should be increased up to 25 mg b.i.d. as preferred antihypertensive in this lady's case.  She also is on an ACE inhibitor. So her discharge meds are as follows: 1.  Coreg 6.25 mg b.i.d. 2.  Simvastatin 40 mg nightly. 3.  Lisinopril 5 mg b.i.d. 4.  Protonix 40 mg a.m. 5.  Aspirin 160 mg a day. <6>\t[Rule 790:\t\\a\\n+(\\d.\\s+\\C\tstbegin\t0.0\tACTUAL]\n",
      "2025-08-31 20:58:16,953 - PyRuSH.RuSH - DEBUG - \t994-999:1.0\t                           Ms. ABCD is a 69-year-old lady, who was admitted to the hospital with chest pain and respiratory insufficiency.  She has chronic lung disease with bronchospastic angina. We discovered new T-wave abnormalities on her EKG.  There was of course a four-vessel bypass surgery in 2001.  We did a coronary angiogram.  This demonstrated patent vein grafts and patent internal mammary vessel and so there was no obvious new disease. She may continue in the future to have angina and she will have nitroglycerin available for that if needed. Her blood pressure has been elevated and so instead of metoprolol, we have started her on Coreg 6.25 mg b.i.d.  This should be increased up to 25 mg b.i.d. as preferred antihypertensive in this lady's case.  She also is on an ACE inhibitor. So her discharge meds are as follows: 1.  Coreg 6.25 mg b.i.d. 2.  Simvastatin 40 mg nightly. 3.  Lisinopril 5 mg b.i.d. 4.  Protonix 40 mg a.m. 5.  Aspirin 160 mg a day. 6.  Lasix 20 mg b.i.d. <7>\t[Rule 790:\t\\a\\n+(\\d.\\s+\\C\tstbegin\t0.0\tACTUAL]\n",
      "2025-08-31 20:58:16,954 - PyRuSH.RuSH - DEBUG - \t1018-1023:1.0\t                           Ms. ABCD is a 69-year-old lady, who was admitted to the hospital with chest pain and respiratory insufficiency.  She has chronic lung disease with bronchospastic angina. We discovered new T-wave abnormalities on her EKG.  There was of course a four-vessel bypass surgery in 2001.  We did a coronary angiogram.  This demonstrated patent vein grafts and patent internal mammary vessel and so there was no obvious new disease. She may continue in the future to have angina and she will have nitroglycerin available for that if needed. Her blood pressure has been elevated and so instead of metoprolol, we have started her on Coreg 6.25 mg b.i.d.  This should be increased up to 25 mg b.i.d. as preferred antihypertensive in this lady's case.  She also is on an ACE inhibitor. So her discharge meds are as follows: 1.  Coreg 6.25 mg b.i.d. 2.  Simvastatin 40 mg nightly. 3.  Lisinopril 5 mg b.i.d. 4.  Protonix 40 mg a.m. 5.  Aspirin 160 mg a day. 6.  Lasix 20 mg b.i.d. 7.  Spiriva puff daily. <8>\t[Rule 790:\t\\a\\n+(\\d.\\s+\\C\tstbegin\t0.0\tACTUAL]\n",
      "2025-08-31 20:58:16,955 - PyRuSH.RuSH - DEBUG - \t1046-1051:1.0\t                           Ms. ABCD is a 69-year-old lady, who was admitted to the hospital with chest pain and respiratory insufficiency.  She has chronic lung disease with bronchospastic angina. We discovered new T-wave abnormalities on her EKG.  There was of course a four-vessel bypass surgery in 2001.  We did a coronary angiogram.  This demonstrated patent vein grafts and patent internal mammary vessel and so there was no obvious new disease. She may continue in the future to have angina and she will have nitroglycerin available for that if needed. Her blood pressure has been elevated and so instead of metoprolol, we have started her on Coreg 6.25 mg b.i.d.  This should be increased up to 25 mg b.i.d. as preferred antihypertensive in this lady's case.  She also is on an ACE inhibitor. So her discharge meds are as follows: 1.  Coreg 6.25 mg b.i.d. 2.  Simvastatin 40 mg nightly. 3.  Lisinopril 5 mg b.i.d. 4.  Protonix 40 mg a.m. 5.  Aspirin 160 mg a day. 6.  Lasix 20 mg b.i.d. 7.  Spiriva puff daily. 8.  Albuterol p.r.n. q.i.d. <9>\t[Rule 790:\t\\a\\n+(\\d.\\s+\\C\tstbegin\t0.0\tACTUAL]\n",
      "2025-08-31 20:58:16,955 - PyRuSH.RuSH - DEBUG - \t1076-1078:1.0\t                           Ms. ABCD is a 69-year-old lady, who was admitted to the hospital with chest pain and respiratory insufficiency.  She has chronic lung disease with bronchospastic angina. We discovered new T-wave abnormalities on her EKG.  There was of course a four-vessel bypass surgery in 2001.  We did a coronary angiogram.  This demonstrated patent vein grafts and patent internal mammary vessel and so there was no obvious new disease. She may continue in the future to have angina and she will have nitroglycerin available for that if needed. Her blood pressure has been elevated and so instead of metoprolol, we have started her on Coreg 6.25 mg b.i.d.  This should be increased up to 25 mg b.i.d. as preferred antihypertensive in this lady's case.  She also is on an ACE inhibitor. So her discharge meds are as follows: 1.  Coreg 6.25 mg b.i.d. 2.  Simvastatin 40 mg nightly. 3.  Lisinopril 5 mg b.i.d. 4.  Protonix 40 mg a.m. 5.  Aspirin 160 mg a day. 6.  Lasix 20 mg b.i.d. 7.  Spiriva puff daily. 8.  Albuterol p.r.n. q.i.d. 9.  Advair 500/50 puff b.i.d. <1>\t[Rule 218:\t\\n(\\d+).\\s+\\C\tstbegin\t0.0\tACTUAL]\n",
      "2025-08-31 20:58:16,957 - PyRuSH.RuSH - DEBUG - \t1081-1082:1.0\t                           Ms. ABCD is a 69-year-old lady, who was admitted to the hospital with chest pain and respiratory insufficiency.  She has chronic lung disease with bronchospastic angina. We discovered new T-wave abnormalities on her EKG.  There was of course a four-vessel bypass surgery in 2001.  We did a coronary angiogram.  This demonstrated patent vein grafts and patent internal mammary vessel and so there was no obvious new disease. She may continue in the future to have angina and she will have nitroglycerin available for that if needed. Her blood pressure has been elevated and so instead of metoprolol, we have started her on Coreg 6.25 mg b.i.d.  This should be increased up to 25 mg b.i.d. as preferred antihypertensive in this lady's case.  She also is on an ACE inhibitor. So her discharge meds are as follows: 1.  Coreg 6.25 mg b.i.d. 2.  Simvastatin 40 mg nightly. 3.  Lisinopril 5 mg b.i.d. 4.  Protonix 40 mg a.m. 5.  Aspirin 160 mg a day. 6.  Lasix 20 mg b.i.d. 7.  Spiriva puff daily. 8.  Albuterol p.r.n. q.i.d. 9.  Advair 500/50 puff b.i.d. 10.  <X>\t[Rule 62:\t\\d.\\s+(\\C)\tstbegin\t0.0\tACTUAL]\n",
      "2025-08-31 20:58:16,958 - PyRuSH.RuSH - DEBUG - \t1107-1109:1.0\t                           Ms. ABCD is a 69-year-old lady, who was admitted to the hospital with chest pain and respiratory insufficiency.  She has chronic lung disease with bronchospastic angina. We discovered new T-wave abnormalities on her EKG.  There was of course a four-vessel bypass surgery in 2001.  We did a coronary angiogram.  This demonstrated patent vein grafts and patent internal mammary vessel and so there was no obvious new disease. She may continue in the future to have angina and she will have nitroglycerin available for that if needed. Her blood pressure has been elevated and so instead of metoprolol, we have started her on Coreg 6.25 mg b.i.d.  This should be increased up to 25 mg b.i.d. as preferred antihypertensive in this lady's case.  She also is on an ACE inhibitor. So her discharge meds are as follows: 1.  Coreg 6.25 mg b.i.d. 2.  Simvastatin 40 mg nightly. 3.  Lisinopril 5 mg b.i.d. 4.  Protonix 40 mg a.m. 5.  Aspirin 160 mg a day. 6.  Lasix 20 mg b.i.d. 7.  Spiriva puff daily. 8.  Albuterol p.r.n. q.i.d. 9.  Advair 500/50 puff b.i.d. 10.  Xopenex q.i.d. and p.r.n. <I>\t[Rule 965:\t.\\w+(I \tstbegin\t0.0\tACTUAL]\n",
      "2025-08-31 20:58:16,958 - PyRuSH.RuSH - DEBUG - \t1148-1152:1.0\t                           Ms. ABCD is a 69-year-old lady, who was admitted to the hospital with chest pain and respiratory insufficiency.  She has chronic lung disease with bronchospastic angina. We discovered new T-wave abnormalities on her EKG.  There was of course a four-vessel bypass surgery in 2001.  We did a coronary angiogram.  This demonstrated patent vein grafts and patent internal mammary vessel and so there was no obvious new disease. She may continue in the future to have angina and she will have nitroglycerin available for that if needed. Her blood pressure has been elevated and so instead of metoprolol, we have started her on Coreg 6.25 mg b.i.d.  This should be increased up to 25 mg b.i.d. as preferred antihypertensive in this lady's case.  She also is on an ACE inhibitor. So her discharge meds are as follows: 1.  Coreg 6.25 mg b.i.d. 2.  Simvastatin 40 mg nightly. 3.  Lisinopril 5 mg b.i.d. 4.  Protonix 40 mg a.m. 5.  Aspirin 160 mg a day. 6.  Lasix 20 mg b.i.d. 7.  Spiriva puff daily. 8.  Albuterol p.r.n. q.i.d. 9.  Advair 500/50 puff b.i.d. 10.  Xopenex q.i.d. and p.r.n. I will see her in a month to six weeks.  <S>\t[Rule 959:\t.\\w+(She \tstbegin\t0.0\tACTUAL]\n",
      "2025-08-31 20:58:16,959 - PyRuSH.RuSH - DEBUG - \t1204-1205:1.0\t                           Ms. ABCD is a 69-year-old lady, who was admitted to the hospital with chest pain and respiratory insufficiency.  She has chronic lung disease with bronchospastic angina. We discovered new T-wave abnormalities on her EKG.  There was of course a four-vessel bypass surgery in 2001.  We did a coronary angiogram.  This demonstrated patent vein grafts and patent internal mammary vessel and so there was no obvious new disease. She may continue in the future to have angina and she will have nitroglycerin available for that if needed. Her blood pressure has been elevated and so instead of metoprolol, we have started her on Coreg 6.25 mg b.i.d.  This should be increased up to 25 mg b.i.d. as preferred antihypertensive in this lady's case.  She also is on an ACE inhibitor. So her discharge meds are as follows: 1.  Coreg 6.25 mg b.i.d. 2.  Simvastatin 40 mg nightly. 3.  Lisinopril 5 mg b.i.d. 4.  Protonix 40 mg a.m. 5.  Aspirin 160 mg a day. 6.  Lasix 20 mg b.i.d. 7.  Spiriva puff daily. 8.  Albuterol p.r.n. q.i.d. 9.  Advair 500/50 puff b.i.d. 10.  Xopenex q.i.d. and p.r.n. I will see her in a month to six weeks.  She is to follow up with Dr. X before that.             <E>\t[Rule 63:\t\\n\\n\\s+(\\C)\tstbegin\t0.0\tACTUAL]\n",
      "2025-08-31 20:58:16,960 - PyRuSH.RuSH - DEBUG - \t1210-1211:1.0\t                           Ms. ABCD is a 69-year-old lady, who was admitted to the hospital with chest pain and respiratory insufficiency.  She has chronic lung disease with bronchospastic angina. We discovered new T-wave abnormalities on her EKG.  There was of course a four-vessel bypass surgery in 2001.  We did a coronary angiogram.  This demonstrated patent vein grafts and patent internal mammary vessel and so there was no obvious new disease. She may continue in the future to have angina and she will have nitroglycerin available for that if needed. Her blood pressure has been elevated and so instead of metoprolol, we have started her on Coreg 6.25 mg b.i.d.  This should be increased up to 25 mg b.i.d. as preferred antihypertensive in this lady's case.  She also is on an ACE inhibitor. So her discharge meds are as follows: 1.  Coreg 6.25 mg b.i.d. 2.  Simvastatin 40 mg nightly. 3.  Lisinopril 5 mg b.i.d. 4.  Protonix 40 mg a.m. 5.  Aspirin 160 mg a day. 6.  Lasix 20 mg b.i.d. 7.  Spiriva puff daily. 8.  Albuterol p.r.n. q.i.d. 9.  Advair 500/50 puff b.i.d. 10.  Xopenex q.i.d. and p.r.n. I will see her in a month to six weeks.  She is to follow up with Dr. X before that.             Ezoic <->\t[Rule 812:\t\\c\\s+(-)\\s+\\C\tstbegin\t0.0\tACTUAL]\n",
      "2025-08-31 20:58:16,961 - PyRuSH.RuSH - DEBUG - \t1270-1271:1.0\t                           Ms. ABCD is a 69-year-old lady, who was admitted to the hospital with chest pain and respiratory insufficiency.  She has chronic lung disease with bronchospastic angina. We discovered new T-wave abnormalities on her EKG.  There was of course a four-vessel bypass surgery in 2001.  We did a coronary angiogram.  This demonstrated patent vein grafts and patent internal mammary vessel and so there was no obvious new disease. She may continue in the future to have angina and she will have nitroglycerin available for that if needed. Her blood pressure has been elevated and so instead of metoprolol, we have started her on Coreg 6.25 mg b.i.d.  This should be increased up to 25 mg b.i.d. as preferred antihypertensive in this lady's case.  She also is on an ACE inhibitor. So her discharge meds are as follows: 1.  Coreg 6.25 mg b.i.d. 2.  Simvastatin 40 mg nightly. 3.  Lisinopril 5 mg b.i.d. 4.  Protonix 40 mg a.m. 5.  Aspirin 160 mg a day. 6.  Lasix 20 mg b.i.d. 7.  Spiriva puff daily. 8.  Albuterol p.r.n. q.i.d. 9.  Advair 500/50 puff b.i.d. 10.  Xopenex q.i.d. and p.r.n. I will see her in a month to six weeks.  She is to follow up with Dr. X before that.             Ezoic - MTSam Sample Bottom Matched Content - native_bottom       <E>\t[Rule 63:\t\\n\\n\\s+(\\C)\tstbegin\t0.0\tACTUAL]\n",
      "2025-08-31 20:58:16,961 - PyRuSH.RuSH - DEBUG - \t1280-1281:1.0\t                           Ms. ABCD is a 69-year-old lady, who was admitted to the hospital with chest pain and respiratory insufficiency.  She has chronic lung disease with bronchospastic angina. We discovered new T-wave abnormalities on her EKG.  There was of course a four-vessel bypass surgery in 2001.  We did a coronary angiogram.  This demonstrated patent vein grafts and patent internal mammary vessel and so there was no obvious new disease. She may continue in the future to have angina and she will have nitroglycerin available for that if needed. Her blood pressure has been elevated and so instead of metoprolol, we have started her on Coreg 6.25 mg b.i.d.  This should be increased up to 25 mg b.i.d. as preferred antihypertensive in this lady's case.  She also is on an ACE inhibitor. So her discharge meds are as follows: 1.  Coreg 6.25 mg b.i.d. 2.  Simvastatin 40 mg nightly. 3.  Lisinopril 5 mg b.i.d. 4.  Protonix 40 mg a.m. 5.  Aspirin 160 mg a day. 6.  Lasix 20 mg b.i.d. 7.  Spiriva puff daily. 8.  Albuterol p.r.n. q.i.d. 9.  Advair 500/50 puff b.i.d. 10.  Xopenex q.i.d. and p.r.n. I will see her in a month to six weeks.  She is to follow up with Dr. X before that.             Ezoic - MTSam Sample Bottom Matched Content - native_bottom       End Ezoic <->\t[Rule 812:\t\\c\\s+(-)\\s+\\C\tstbegin\t0.0\tACTUAL]\n",
      "2025-08-31 20:58:16,962 - PyRuSH.RuSH - DEBUG - stend\n",
      "2025-08-31 20:58:16,964 - PyRuSH.RuSH - DEBUG - \t137-138:1.0\t                           Ms. ABCD is a 69-year-old lady, who was admitted to the hospital with chest pain and respiratory insufficiency<.>\t[Rule 410:\t\\c\\c(.)\\s+\\C\tstend\t2.0\tACTUAL]\n",
      "2025-08-31 20:58:16,964 - PyRuSH.RuSH - DEBUG - \t195-196:1.0\t                           Ms. ABCD is a 69-year-old lady, who was admitted to the hospital with chest pain and respiratory insufficiency.  She has chronic lung disease with bronchospastic angina<.>\t[Rule 423:\t\\c(.)\\n\tstend\t2.0\tACTUAL]\n",
      "2025-08-31 20:58:16,965 - PyRuSH.RuSH - DEBUG - \t246-247:1.0\t                           Ms. ABCD is a 69-year-old lady, who was admitted to the hospital with chest pain and respiratory insufficiency.  She has chronic lung disease with bronchospastic angina. We discovered new T-wave abnormalities on her EKG<.>\t[Rule 419:\t\\C\\C\\C(.)\\s+\\C\\c\tstend\t2.0\tACTUAL]\n",
      "2025-08-31 20:58:16,966 - PyRuSH.RuSH - DEBUG - \t305-306:1.0\t                           Ms. ABCD is a 69-year-old lady, who was admitted to the hospital with chest pain and respiratory insufficiency.  She has chronic lung disease with bronchospastic angina. We discovered new T-wave abnormalities on her EKG.  There was of course a four-vessel bypass surgery in 2001<.>\t[Rule 353:\t\\d(.)\\s+\\C\tstend\t2.0\tACTUAL]\n",
      "2025-08-31 20:58:16,966 - PyRuSH.RuSH - DEBUG - \t335-336:1.0\t                           Ms. ABCD is a 69-year-old lady, who was admitted to the hospital with chest pain and respiratory insufficiency.  She has chronic lung disease with bronchospastic angina. We discovered new T-wave abnormalities on her EKG.  There was of course a four-vessel bypass surgery in 2001.  We did a coronary angiogram<.>\t[Rule 410:\t\\c\\c(.)\\s+\\C\tstend\t2.0\tACTUAL]\n",
      "2025-08-31 20:58:16,968 - PyRuSH.RuSH - DEBUG - \t449-450:1.0\t                           Ms. ABCD is a 69-year-old lady, who was admitted to the hospital with chest pain and respiratory insufficiency.  She has chronic lung disease with bronchospastic angina. We discovered new T-wave abnormalities on her EKG.  There was of course a four-vessel bypass surgery in 2001.  We did a coronary angiogram.  This demonstrated patent vein grafts and patent internal mammary vessel and so there was no obvious new disease<.>\t[Rule 423:\t\\c(.)\\n\tstend\t2.0\tACTUAL]\n",
      "2025-08-31 20:58:16,969 - PyRuSH.RuSH - DEBUG - \t557-558:1.0\t                           Ms. ABCD is a 69-year-old lady, who was admitted to the hospital with chest pain and respiratory insufficiency.  She has chronic lung disease with bronchospastic angina. We discovered new T-wave abnormalities on her EKG.  There was of course a four-vessel bypass surgery in 2001.  We did a coronary angiogram.  This demonstrated patent vein grafts and patent internal mammary vessel and so there was no obvious new disease. She may continue in the future to have angina and she will have nitroglycerin available for that if needed<.>\t[Rule 423:\t\\c(.)\\n\tstend\t2.0\tACTUAL]\n",
      "2025-08-31 20:58:16,970 - PyRuSH.RuSH - DEBUG - \t668-669:1.0\t                           Ms. ABCD is a 69-year-old lady, who was admitted to the hospital with chest pain and respiratory insufficiency.  She has chronic lung disease with bronchospastic angina. We discovered new T-wave abnormalities on her EKG.  There was of course a four-vessel bypass surgery in 2001.  We did a coronary angiogram.  This demonstrated patent vein grafts and patent internal mammary vessel and so there was no obvious new disease. She may continue in the future to have angina and she will have nitroglycerin available for that if needed. Her blood pressure has been elevated and so instead of metoprolol, we have started her on Coreg 6.25 mg b.i.d<.>\t[Rule 940:\t\\c.\\c(.)\\w+\\C\\c\\c\tstend\t2.0\tACTUAL]\n",
      "2025-08-31 20:58:16,970 - PyRuSH.RuSH - DEBUG - \t713-714:1.0\t                           Ms. ABCD is a 69-year-old lady, who was admitted to the hospital with chest pain and respiratory insufficiency.  She has chronic lung disease with bronchospastic angina. We discovered new T-wave abnormalities on her EKG.  There was of course a four-vessel bypass surgery in 2001.  We did a coronary angiogram.  This demonstrated patent vein grafts and patent internal mammary vessel and so there was no obvious new disease. She may continue in the future to have angina and she will have nitroglycerin available for that if needed. Her blood pressure has been elevated and so instead of metoprolol, we have started her on Coreg 6.25 mg b.i.d.  This should be increased up to 25 mg b.i.d<.>\t[Rule 317:\t\\a(.) +\tstend\t2.0\tACTUAL]\n",
      "2025-08-31 20:58:16,971 - PyRuSH.RuSH - DEBUG - \t764-765:1.0\t                           Ms. ABCD is a 69-year-old lady, who was admitted to the hospital with chest pain and respiratory insufficiency.  She has chronic lung disease with bronchospastic angina. We discovered new T-wave abnormalities on her EKG.  There was of course a four-vessel bypass surgery in 2001.  We did a coronary angiogram.  This demonstrated patent vein grafts and patent internal mammary vessel and so there was no obvious new disease. She may continue in the future to have angina and she will have nitroglycerin available for that if needed. Her blood pressure has been elevated and so instead of metoprolol, we have started her on Coreg 6.25 mg b.i.d.  This should be increased up to 25 mg b.i.d. as preferred antihypertensive in this lady's case<.>\t[Rule 410:\t\\c\\c(.)\\s+\\C\tstend\t2.0\tACTUAL]\n",
      "2025-08-31 20:58:16,971 - PyRuSH.RuSH - DEBUG - \t798-799:1.0\t                           Ms. ABCD is a 69-year-old lady, who was admitted to the hospital with chest pain and respiratory insufficiency.  She has chronic lung disease with bronchospastic angina. We discovered new T-wave abnormalities on her EKG.  There was of course a four-vessel bypass surgery in 2001.  We did a coronary angiogram.  This demonstrated patent vein grafts and patent internal mammary vessel and so there was no obvious new disease. She may continue in the future to have angina and she will have nitroglycerin available for that if needed. Her blood pressure has been elevated and so instead of metoprolol, we have started her on Coreg 6.25 mg b.i.d.  This should be increased up to 25 mg b.i.d. as preferred antihypertensive in this lady's case.  She also is on an ACE inhibitor<.>\t[Rule 423:\t\\c(.)\\n\tstend\t2.0\tACTUAL]\n",
      "2025-08-31 20:58:16,972 - PyRuSH.RuSH - DEBUG - \t836-837:1.0\t                           Ms. ABCD is a 69-year-old lady, who was admitted to the hospital with chest pain and respiratory insufficiency.  She has chronic lung disease with bronchospastic angina. We discovered new T-wave abnormalities on her EKG.  There was of course a four-vessel bypass surgery in 2001.  We did a coronary angiogram.  This demonstrated patent vein grafts and patent internal mammary vessel and so there was no obvious new disease. She may continue in the future to have angina and she will have nitroglycerin available for that if needed. Her blood pressure has been elevated and so instead of metoprolol, we have started her on Coreg 6.25 mg b.i.d.  This should be increased up to 25 mg b.i.d. as preferred antihypertensive in this lady's case.  She also is on an ACE inhibitor. So her discharge meds are as follows<:>\t[Rule 413:\t\\c(:)\\n\tstend\t2.0\tACTUAL]\n",
      "2025-08-31 20:58:16,973 - PyRuSH.RuSH - DEBUG - \t861-862:1.0\t                           Ms. ABCD is a 69-year-old lady, who was admitted to the hospital with chest pain and respiratory insufficiency.  She has chronic lung disease with bronchospastic angina. We discovered new T-wave abnormalities on her EKG.  There was of course a four-vessel bypass surgery in 2001.  We did a coronary angiogram.  This demonstrated patent vein grafts and patent internal mammary vessel and so there was no obvious new disease. She may continue in the future to have angina and she will have nitroglycerin available for that if needed. Her blood pressure has been elevated and so instead of metoprolol, we have started her on Coreg 6.25 mg b.i.d.  This should be increased up to 25 mg b.i.d. as preferred antihypertensive in this lady's case.  She also is on an ACE inhibitor. So her discharge meds are as follows: 1.  Coreg 6.25 mg b.i.d<.>\t[Rule 423:\t\\c(.)\\n\tstend\t2.0\tACTUAL]\n",
      "2025-08-31 20:58:16,974 - PyRuSH.RuSH - DEBUG - \t892-893:1.0\t                           Ms. ABCD is a 69-year-old lady, who was admitted to the hospital with chest pain and respiratory insufficiency.  She has chronic lung disease with bronchospastic angina. We discovered new T-wave abnormalities on her EKG.  There was of course a four-vessel bypass surgery in 2001.  We did a coronary angiogram.  This demonstrated patent vein grafts and patent internal mammary vessel and so there was no obvious new disease. She may continue in the future to have angina and she will have nitroglycerin available for that if needed. Her blood pressure has been elevated and so instead of metoprolol, we have started her on Coreg 6.25 mg b.i.d.  This should be increased up to 25 mg b.i.d. as preferred antihypertensive in this lady's case.  She also is on an ACE inhibitor. So her discharge meds are as follows: 1.  Coreg 6.25 mg b.i.d. 2.  Simvastatin 40 mg nightly<.>\t[Rule 423:\t\\c(.)\\n\tstend\t2.0\tACTUAL]\n",
      "2025-08-31 20:58:16,975 - PyRuSH.RuSH - DEBUG - \t919-920:1.0\t                           Ms. ABCD is a 69-year-old lady, who was admitted to the hospital with chest pain and respiratory insufficiency.  She has chronic lung disease with bronchospastic angina. We discovered new T-wave abnormalities on her EKG.  There was of course a four-vessel bypass surgery in 2001.  We did a coronary angiogram.  This demonstrated patent vein grafts and patent internal mammary vessel and so there was no obvious new disease. She may continue in the future to have angina and she will have nitroglycerin available for that if needed. Her blood pressure has been elevated and so instead of metoprolol, we have started her on Coreg 6.25 mg b.i.d.  This should be increased up to 25 mg b.i.d. as preferred antihypertensive in this lady's case.  She also is on an ACE inhibitor. So her discharge meds are as follows: 1.  Coreg 6.25 mg b.i.d. 2.  Simvastatin 40 mg nightly. 3.  Lisinopril 5 mg b.i.d<.>\t[Rule 423:\t\\c(.)\\n\tstend\t2.0\tACTUAL]\n",
      "2025-08-31 20:58:16,976 - PyRuSH.RuSH - DEBUG - \t943-944:1.0\t                           Ms. ABCD is a 69-year-old lady, who was admitted to the hospital with chest pain and respiratory insufficiency.  She has chronic lung disease with bronchospastic angina. We discovered new T-wave abnormalities on her EKG.  There was of course a four-vessel bypass surgery in 2001.  We did a coronary angiogram.  This demonstrated patent vein grafts and patent internal mammary vessel and so there was no obvious new disease. She may continue in the future to have angina and she will have nitroglycerin available for that if needed. Her blood pressure has been elevated and so instead of metoprolol, we have started her on Coreg 6.25 mg b.i.d.  This should be increased up to 25 mg b.i.d. as preferred antihypertensive in this lady's case.  She also is on an ACE inhibitor. So her discharge meds are as follows: 1.  Coreg 6.25 mg b.i.d. 2.  Simvastatin 40 mg nightly. 3.  Lisinopril 5 mg b.i.d. 4.  Protonix 40 mg a.m<.>\t[Rule 423:\t\\c(.)\\n\tstend\t2.0\tACTUAL]\n",
      "2025-08-31 20:58:16,976 - PyRuSH.RuSH - DEBUG - \t969-970:1.0\t                           Ms. ABCD is a 69-year-old lady, who was admitted to the hospital with chest pain and respiratory insufficiency.  She has chronic lung disease with bronchospastic angina. We discovered new T-wave abnormalities on her EKG.  There was of course a four-vessel bypass surgery in 2001.  We did a coronary angiogram.  This demonstrated patent vein grafts and patent internal mammary vessel and so there was no obvious new disease. She may continue in the future to have angina and she will have nitroglycerin available for that if needed. Her blood pressure has been elevated and so instead of metoprolol, we have started her on Coreg 6.25 mg b.i.d.  This should be increased up to 25 mg b.i.d. as preferred antihypertensive in this lady's case.  She also is on an ACE inhibitor. So her discharge meds are as follows: 1.  Coreg 6.25 mg b.i.d. 2.  Simvastatin 40 mg nightly. 3.  Lisinopril 5 mg b.i.d. 4.  Protonix 40 mg a.m. 5.  Aspirin 160 mg a day<.>\t[Rule 423:\t\\c(.)\\n\tstend\t2.0\tACTUAL]\n",
      "2025-08-31 20:58:16,977 - PyRuSH.RuSH - DEBUG - \t992-993:1.0\t                           Ms. ABCD is a 69-year-old lady, who was admitted to the hospital with chest pain and respiratory insufficiency.  She has chronic lung disease with bronchospastic angina. We discovered new T-wave abnormalities on her EKG.  There was of course a four-vessel bypass surgery in 2001.  We did a coronary angiogram.  This demonstrated patent vein grafts and patent internal mammary vessel and so there was no obvious new disease. She may continue in the future to have angina and she will have nitroglycerin available for that if needed. Her blood pressure has been elevated and so instead of metoprolol, we have started her on Coreg 6.25 mg b.i.d.  This should be increased up to 25 mg b.i.d. as preferred antihypertensive in this lady's case.  She also is on an ACE inhibitor. So her discharge meds are as follows: 1.  Coreg 6.25 mg b.i.d. 2.  Simvastatin 40 mg nightly. 3.  Lisinopril 5 mg b.i.d. 4.  Protonix 40 mg a.m. 5.  Aspirin 160 mg a day. 6.  Lasix 20 mg b.i.d<.>\t[Rule 423:\t\\c(.)\\n\tstend\t2.0\tACTUAL]\n",
      "2025-08-31 20:58:16,978 - PyRuSH.RuSH - DEBUG - \t1016-1017:1.0\t                           Ms. ABCD is a 69-year-old lady, who was admitted to the hospital with chest pain and respiratory insufficiency.  She has chronic lung disease with bronchospastic angina. We discovered new T-wave abnormalities on her EKG.  There was of course a four-vessel bypass surgery in 2001.  We did a coronary angiogram.  This demonstrated patent vein grafts and patent internal mammary vessel and so there was no obvious new disease. She may continue in the future to have angina and she will have nitroglycerin available for that if needed. Her blood pressure has been elevated and so instead of metoprolol, we have started her on Coreg 6.25 mg b.i.d.  This should be increased up to 25 mg b.i.d. as preferred antihypertensive in this lady's case.  She also is on an ACE inhibitor. So her discharge meds are as follows: 1.  Coreg 6.25 mg b.i.d. 2.  Simvastatin 40 mg nightly. 3.  Lisinopril 5 mg b.i.d. 4.  Protonix 40 mg a.m. 5.  Aspirin 160 mg a day. 6.  Lasix 20 mg b.i.d. 7.  Spiriva puff daily<.>\t[Rule 423:\t\\c(.)\\n\tstend\t2.0\tACTUAL]\n",
      "2025-08-31 20:58:16,979 - PyRuSH.RuSH - DEBUG - \t1037-1038:1.0\t                           Ms. ABCD is a 69-year-old lady, who was admitted to the hospital with chest pain and respiratory insufficiency.  She has chronic lung disease with bronchospastic angina. We discovered new T-wave abnormalities on her EKG.  There was of course a four-vessel bypass surgery in 2001.  We did a coronary angiogram.  This demonstrated patent vein grafts and patent internal mammary vessel and so there was no obvious new disease. She may continue in the future to have angina and she will have nitroglycerin available for that if needed. Her blood pressure has been elevated and so instead of metoprolol, we have started her on Coreg 6.25 mg b.i.d.  This should be increased up to 25 mg b.i.d. as preferred antihypertensive in this lady's case.  She also is on an ACE inhibitor. So her discharge meds are as follows: 1.  Coreg 6.25 mg b.i.d. 2.  Simvastatin 40 mg nightly. 3.  Lisinopril 5 mg b.i.d. 4.  Protonix 40 mg a.m. 5.  Aspirin 160 mg a day. 6.  Lasix 20 mg b.i.d. 7.  Spiriva puff daily. 8.  Albuterol p.r.n<.>\t[Rule 317:\t\\a(.) +\tstend\t2.0\tACTUAL]\n",
      "2025-08-31 20:58:16,980 - PyRuSH.RuSH - DEBUG - \t1044-1045:1.0\t                           Ms. ABCD is a 69-year-old lady, who was admitted to the hospital with chest pain and respiratory insufficiency.  She has chronic lung disease with bronchospastic angina. We discovered new T-wave abnormalities on her EKG.  There was of course a four-vessel bypass surgery in 2001.  We did a coronary angiogram.  This demonstrated patent vein grafts and patent internal mammary vessel and so there was no obvious new disease. She may continue in the future to have angina and she will have nitroglycerin available for that if needed. Her blood pressure has been elevated and so instead of metoprolol, we have started her on Coreg 6.25 mg b.i.d.  This should be increased up to 25 mg b.i.d. as preferred antihypertensive in this lady's case.  She also is on an ACE inhibitor. So her discharge meds are as follows: 1.  Coreg 6.25 mg b.i.d. 2.  Simvastatin 40 mg nightly. 3.  Lisinopril 5 mg b.i.d. 4.  Protonix 40 mg a.m. 5.  Aspirin 160 mg a day. 6.  Lasix 20 mg b.i.d. 7.  Spiriva puff daily. 8.  Albuterol p.r.n. q.i.d<.>\t[Rule 423:\t\\c(.)\\n\tstend\t2.0\tACTUAL]\n",
      "2025-08-31 20:58:16,981 - PyRuSH.RuSH - DEBUG - \t1074-1075:1.0\t                           Ms. ABCD is a 69-year-old lady, who was admitted to the hospital with chest pain and respiratory insufficiency.  She has chronic lung disease with bronchospastic angina. We discovered new T-wave abnormalities on her EKG.  There was of course a four-vessel bypass surgery in 2001.  We did a coronary angiogram.  This demonstrated patent vein grafts and patent internal mammary vessel and so there was no obvious new disease. She may continue in the future to have angina and she will have nitroglycerin available for that if needed. Her blood pressure has been elevated and so instead of metoprolol, we have started her on Coreg 6.25 mg b.i.d.  This should be increased up to 25 mg b.i.d. as preferred antihypertensive in this lady's case.  She also is on an ACE inhibitor. So her discharge meds are as follows: 1.  Coreg 6.25 mg b.i.d. 2.  Simvastatin 40 mg nightly. 3.  Lisinopril 5 mg b.i.d. 4.  Protonix 40 mg a.m. 5.  Aspirin 160 mg a day. 6.  Lasix 20 mg b.i.d. 7.  Spiriva puff daily. 8.  Albuterol p.r.n. q.i.d. 9.  Advair 500/50 puff b.i.d<.>\t[Rule 423:\t\\c(.)\\n\tstend\t2.0\tACTUAL]\n",
      "2025-08-31 20:58:16,982 - PyRuSH.RuSH - DEBUG - \t1094-1095:1.0\t                           Ms. ABCD is a 69-year-old lady, who was admitted to the hospital with chest pain and respiratory insufficiency.  She has chronic lung disease with bronchospastic angina. We discovered new T-wave abnormalities on her EKG.  There was of course a four-vessel bypass surgery in 2001.  We did a coronary angiogram.  This demonstrated patent vein grafts and patent internal mammary vessel and so there was no obvious new disease. She may continue in the future to have angina and she will have nitroglycerin available for that if needed. Her blood pressure has been elevated and so instead of metoprolol, we have started her on Coreg 6.25 mg b.i.d.  This should be increased up to 25 mg b.i.d. as preferred antihypertensive in this lady's case.  She also is on an ACE inhibitor. So her discharge meds are as follows: 1.  Coreg 6.25 mg b.i.d. 2.  Simvastatin 40 mg nightly. 3.  Lisinopril 5 mg b.i.d. 4.  Protonix 40 mg a.m. 5.  Aspirin 160 mg a day. 6.  Lasix 20 mg b.i.d. 7.  Spiriva puff daily. 8.  Albuterol p.r.n. q.i.d. 9.  Advair 500/50 puff b.i.d. 10.  Xopenex q.i.d<.>\t[Rule 317:\t\\a(.) +\tstend\t2.0\tACTUAL]\n",
      "2025-08-31 20:58:16,983 - PyRuSH.RuSH - DEBUG - \t1105-1106:1.0\t                           Ms. ABCD is a 69-year-old lady, who was admitted to the hospital with chest pain and respiratory insufficiency.  She has chronic lung disease with bronchospastic angina. We discovered new T-wave abnormalities on her EKG.  There was of course a four-vessel bypass surgery in 2001.  We did a coronary angiogram.  This demonstrated patent vein grafts and patent internal mammary vessel and so there was no obvious new disease. She may continue in the future to have angina and she will have nitroglycerin available for that if needed. Her blood pressure has been elevated and so instead of metoprolol, we have started her on Coreg 6.25 mg b.i.d.  This should be increased up to 25 mg b.i.d. as preferred antihypertensive in this lady's case.  She also is on an ACE inhibitor. So her discharge meds are as follows: 1.  Coreg 6.25 mg b.i.d. 2.  Simvastatin 40 mg nightly. 3.  Lisinopril 5 mg b.i.d. 4.  Protonix 40 mg a.m. 5.  Aspirin 160 mg a day. 6.  Lasix 20 mg b.i.d. 7.  Spiriva puff daily. 8.  Albuterol p.r.n. q.i.d. 9.  Advair 500/50 puff b.i.d. 10.  Xopenex q.i.d. and p.r.n<.>\t[Rule 423:\t\\c(.)\\n\tstend\t2.0\tACTUAL]\n",
      "2025-08-31 20:58:16,984 - PyRuSH.RuSH - DEBUG - \t1145-1146:1.0\t                           Ms. ABCD is a 69-year-old lady, who was admitted to the hospital with chest pain and respiratory insufficiency.  She has chronic lung disease with bronchospastic angina. We discovered new T-wave abnormalities on her EKG.  There was of course a four-vessel bypass surgery in 2001.  We did a coronary angiogram.  This demonstrated patent vein grafts and patent internal mammary vessel and so there was no obvious new disease. She may continue in the future to have angina and she will have nitroglycerin available for that if needed. Her blood pressure has been elevated and so instead of metoprolol, we have started her on Coreg 6.25 mg b.i.d.  This should be increased up to 25 mg b.i.d. as preferred antihypertensive in this lady's case.  She also is on an ACE inhibitor. So her discharge meds are as follows: 1.  Coreg 6.25 mg b.i.d. 2.  Simvastatin 40 mg nightly. 3.  Lisinopril 5 mg b.i.d. 4.  Protonix 40 mg a.m. 5.  Aspirin 160 mg a day. 6.  Lasix 20 mg b.i.d. 7.  Spiriva puff daily. 8.  Albuterol p.r.n. q.i.d. 9.  Advair 500/50 puff b.i.d. 10.  Xopenex q.i.d. and p.r.n. I will see her in a month to six weeks<.>\t[Rule 410:\t\\c\\c(.)\\s+\\C\tstend\t2.0\tACTUAL]\n",
      "2025-08-31 20:58:16,985 - PyRuSH.RuSH - DEBUG - \t1190-1191:1.0\t                           Ms. ABCD is a 69-year-old lady, who was admitted to the hospital with chest pain and respiratory insufficiency.  She has chronic lung disease with bronchospastic angina. We discovered new T-wave abnormalities on her EKG.  There was of course a four-vessel bypass surgery in 2001.  We did a coronary angiogram.  This demonstrated patent vein grafts and patent internal mammary vessel and so there was no obvious new disease. She may continue in the future to have angina and she will have nitroglycerin available for that if needed. Her blood pressure has been elevated and so instead of metoprolol, we have started her on Coreg 6.25 mg b.i.d.  This should be increased up to 25 mg b.i.d. as preferred antihypertensive in this lady's case.  She also is on an ACE inhibitor. So her discharge meds are as follows: 1.  Coreg 6.25 mg b.i.d. 2.  Simvastatin 40 mg nightly. 3.  Lisinopril 5 mg b.i.d. 4.  Protonix 40 mg a.m. 5.  Aspirin 160 mg a day. 6.  Lasix 20 mg b.i.d. 7.  Spiriva puff daily. 8.  Albuterol p.r.n. q.i.d. 9.  Advair 500/50 puff b.i.d. 10.  Xopenex q.i.d. and p.r.n. I will see her in a month to six weeks.  She is to follow up with Dr. X before that<.>\t[Rule 423:\t\\c(.)\\n\tstend\t2.0\tACTUAL]\n",
      "2025-08-31 20:58:16,986 - PyRuSH.RuSH - DEBUG - \t1192-1205:1.0\t                           Ms. ABCD is a 69-year-old lady, who was admitted to the hospital with chest pain and respiratory insufficiency.  She has chronic lung disease with bronchospastic angina. We discovered new T-wave abnormalities on her EKG.  There was of course a four-vessel bypass surgery in 2001.  We did a coronary angiogram.  This demonstrated patent vein grafts and patent internal mammary vessel and so there was no obvious new disease. She may continue in the future to have angina and she will have nitroglycerin available for that if needed. Her blood pressure has been elevated and so instead of metoprolol, we have started her on Coreg 6.25 mg b.i.d.  This should be increased up to 25 mg b.i.d. as preferred antihypertensive in this lady's case.  She also is on an ACE inhibitor. So her discharge meds are as follows: 1.  Coreg 6.25 mg b.i.d. 2.  Simvastatin 40 mg nightly. 3.  Lisinopril 5 mg b.i.d. 4.  Protonix 40 mg a.m. 5.  Aspirin 160 mg a day. 6.  Lasix 20 mg b.i.d. 7.  Spiriva puff daily. 8.  Albuterol p.r.n. q.i.d. 9.  Advair 500/50 puff b.i.d. 10.  Xopenex q.i.d. and p.r.n. I will see her in a month to six weeks.  She is to follow up with Dr. X before that. < >\t[Rule 523:\t\\s+\\n\\n+\\s+\\C\tstend\t2.0\tACTUAL]\n",
      "2025-08-31 20:58:16,987 - PyRuSH.RuSH - DEBUG - \t1208-1213:1.0\t                           Ms. ABCD is a 69-year-old lady, who was admitted to the hospital with chest pain and respiratory insufficiency.  She has chronic lung disease with bronchospastic angina. We discovered new T-wave abnormalities on her EKG.  There was of course a four-vessel bypass surgery in 2001.  We did a coronary angiogram.  This demonstrated patent vein grafts and patent internal mammary vessel and so there was no obvious new disease. She may continue in the future to have angina and she will have nitroglycerin available for that if needed. Her blood pressure has been elevated and so instead of metoprolol, we have started her on Coreg 6.25 mg b.i.d.  This should be increased up to 25 mg b.i.d. as preferred antihypertensive in this lady's case.  She also is on an ACE inhibitor. So her discharge meds are as follows: 1.  Coreg 6.25 mg b.i.d. 2.  Simvastatin 40 mg nightly. 3.  Lisinopril 5 mg b.i.d. 4.  Protonix 40 mg a.m. 5.  Aspirin 160 mg a day. 6.  Lasix 20 mg b.i.d. 7.  Spiriva puff daily. 8.  Albuterol p.r.n. q.i.d. 9.  Advair 500/50 puff b.i.d. 10.  Xopenex q.i.d. and p.r.n. I will see her in a month to six weeks.  She is to follow up with Dr. X before that.             Ezoi<c>\t[Rule 813:\t\\c\\s+-\\s+\\C\tstend\t2.0\tACTUAL]\n",
      "2025-08-31 20:58:16,988 - PyRuSH.RuSH - DEBUG - \t1263-1271:1.0\t                           Ms. ABCD is a 69-year-old lady, who was admitted to the hospital with chest pain and respiratory insufficiency.  She has chronic lung disease with bronchospastic angina. We discovered new T-wave abnormalities on her EKG.  There was of course a four-vessel bypass surgery in 2001.  We did a coronary angiogram.  This demonstrated patent vein grafts and patent internal mammary vessel and so there was no obvious new disease. She may continue in the future to have angina and she will have nitroglycerin available for that if needed. Her blood pressure has been elevated and so instead of metoprolol, we have started her on Coreg 6.25 mg b.i.d.  This should be increased up to 25 mg b.i.d. as preferred antihypertensive in this lady's case.  She also is on an ACE inhibitor. So her discharge meds are as follows: 1.  Coreg 6.25 mg b.i.d. 2.  Simvastatin 40 mg nightly. 3.  Lisinopril 5 mg b.i.d. 4.  Protonix 40 mg a.m. 5.  Aspirin 160 mg a day. 6.  Lasix 20 mg b.i.d. 7.  Spiriva puff daily. 8.  Albuterol p.r.n. q.i.d. 9.  Advair 500/50 puff b.i.d. 10.  Xopenex q.i.d. and p.r.n. I will see her in a month to six weeks.  She is to follow up with Dr. X before that.             Ezoic - MTSam Sample Bottom Matched Content - native_bottom< >\t[Rule 523:\t\\s+\\n\\n+\\s+\\C\tstend\t2.0\tACTUAL]\n",
      "2025-08-31 20:58:16,988 - PyRuSH.RuSH - DEBUG - \t1278-1283:1.0\t                           Ms. ABCD is a 69-year-old lady, who was admitted to the hospital with chest pain and respiratory insufficiency.  She has chronic lung disease with bronchospastic angina. We discovered new T-wave abnormalities on her EKG.  There was of course a four-vessel bypass surgery in 2001.  We did a coronary angiogram.  This demonstrated patent vein grafts and patent internal mammary vessel and so there was no obvious new disease. She may continue in the future to have angina and she will have nitroglycerin available for that if needed. Her blood pressure has been elevated and so instead of metoprolol, we have started her on Coreg 6.25 mg b.i.d.  This should be increased up to 25 mg b.i.d. as preferred antihypertensive in this lady's case.  She also is on an ACE inhibitor. So her discharge meds are as follows: 1.  Coreg 6.25 mg b.i.d. 2.  Simvastatin 40 mg nightly. 3.  Lisinopril 5 mg b.i.d. 4.  Protonix 40 mg a.m. 5.  Aspirin 160 mg a day. 6.  Lasix 20 mg b.i.d. 7.  Spiriva puff daily. 8.  Albuterol p.r.n. q.i.d. 9.  Advair 500/50 puff b.i.d. 10.  Xopenex q.i.d. and p.r.n. I will see her in a month to six weeks.  She is to follow up with Dr. X before that.             Ezoic - MTSam Sample Bottom Matched Content - native_bottom       End Ezoi<c>\t[Rule 813:\t\\c\\s+-\\s+\\C\tstend\t2.0\tACTUAL]\n",
      "2025-08-31 20:58:16,989 - PyRuSH.RuSH - DEBUG - Sentence(27-138):\t>Ms. ABCD is a 69-year-old lady, who was admitted to the hospital with chest pain and respiratory insufficiency.<\n",
      "2025-08-31 20:58:16,990 - PyRuSH.RuSH - DEBUG - Sentence(140-196):\t>She has chronic lung disease with bronchospastic angina.<\n",
      "2025-08-31 20:58:16,991 - PyRuSH.RuSH - DEBUG - Sentence(197-247):\t>We discovered new T-wave abnormalities on her EKG.<\n",
      "2025-08-31 20:58:16,992 - PyRuSH.RuSH - DEBUG - Sentence(249-306):\t>There was of course a four-vessel bypass surgery in 2001.<\n",
      "2025-08-31 20:58:16,993 - PyRuSH.RuSH - DEBUG - Sentence(308-336):\t>We did a coronary angiogram.<\n",
      "2025-08-31 20:58:16,993 - PyRuSH.RuSH - DEBUG - Sentence(338-450):\t>This demonstrated patent vein grafts and patent internal mammary vessel and so there was no obvious new disease.<\n",
      "2025-08-31 20:58:16,993 - PyRuSH.RuSH - DEBUG - Sentence(451-558):\t>She may continue in the future to have angina and she will have nitroglycerin available for that if needed.<\n",
      "2025-08-31 20:58:16,996 - PyRuSH.RuSH - DEBUG - Sentence(559-669):\t>Her blood pressure has been elevated and so instead of metoprolol, we have started her on Coreg 6.25 mg b.i.d.<\n",
      "2025-08-31 20:58:16,997 - PyRuSH.RuSH - DEBUG - Sentence(671-765):\t>This should be increased up to 25 mg b.i.d. as preferred antihypertensive in this lady's case.<\n",
      "2025-08-31 20:58:16,998 - PyRuSH.RuSH - DEBUG - Sentence(767-799):\t>She also is on an ACE inhibitor.<\n",
      "2025-08-31 20:58:16,999 - PyRuSH.RuSH - DEBUG - Sentence(800-837):\t>So her discharge meds are as follows:<\n",
      "2025-08-31 20:58:16,999 - PyRuSH.RuSH - DEBUG - Sentence(838-862):\t>1.  Coreg 6.25 mg b.i.d.<\n",
      "2025-08-31 20:58:17,001 - PyRuSH.RuSH - DEBUG - Sentence(863-893):\t>2.  Simvastatin 40 mg nightly.<\n",
      "2025-08-31 20:58:17,002 - PyRuSH.RuSH - DEBUG - Sentence(894-920):\t>3.  Lisinopril 5 mg b.i.d.<\n",
      "2025-08-31 20:58:17,003 - PyRuSH.RuSH - DEBUG - Sentence(921-944):\t>4.  Protonix 40 mg a.m.<\n",
      "2025-08-31 20:58:17,004 - PyRuSH.RuSH - DEBUG - Sentence(945-970):\t>5.  Aspirin 160 mg a day.<\n",
      "2025-08-31 20:58:17,005 - PyRuSH.RuSH - DEBUG - Sentence(971-993):\t>6.  Lasix 20 mg b.i.d.<\n",
      "2025-08-31 20:58:17,006 - PyRuSH.RuSH - DEBUG - Sentence(994-1017):\t>7.  Spiriva puff daily.<\n",
      "2025-08-31 20:58:17,009 - PyRuSH.RuSH - DEBUG - Sentence(1018-1045):\t>8.  Albuterol p.r.n. q.i.d.<\n",
      "2025-08-31 20:58:17,010 - PyRuSH.RuSH - DEBUG - Sentence(1046-1075):\t>9.  Advair 500/50 puff b.i.d.<\n",
      "2025-08-31 20:58:17,011 - PyRuSH.RuSH - DEBUG - Sentence(1076-1106):\t>10.  Xopenex q.i.d. and p.r.n.<\n",
      "2025-08-31 20:58:17,013 - PyRuSH.RuSH - DEBUG - Sentence(1107-1146):\t>I will see her in a month to six weeks.<\n",
      "2025-08-31 20:58:17,014 - PyRuSH.RuSH - DEBUG - Sentence(1148-1191):\t>She is to follow up with Dr. X before that.<\n",
      "2025-08-31 20:58:17,015 - PyRuSH.RuSH - DEBUG - Sentence(1204-1209):\t>Ezoic<\n",
      "2025-08-31 20:58:17,016 - PyRuSH.RuSH - DEBUG - Sentence(1210-1263):\t>- MTSam Sample Bottom Matched Content - native_bottom<\n",
      "2025-08-31 20:58:17,017 - PyRuSH.RuSH - DEBUG - Sentence(1270-1279):\t>End Ezoic<\n",
      "2025-08-31 20:58:17,018 - PyRuSH.RuSH - DEBUG - Sentence(1280-1333):\t>- MTSam Sample Bottom Matched Content - native_bottom<\n"
     ]
    }
   ],
   "source": [
    "sents=rush.segToSentenceSpans(input_str)\n",
    "# 2025-08-24 23:45:48,415 - PyRuSH.RuSH - DEBUG - Sentence(19-130):\t>Ms. ABCD is a 69-year-old lady, who was admitted to the hospital with chest pain and respiratory insufficiency.<\n",
    "# 2025-08-24 23:45:48,416 - PyRuSH.RuSH - DEBUG - Sentence(132-188):\t>She has chronic lung disease with bronchospastic angina.<\n",
    "# 2025-08-24 23:45:48,416 - PyRuSH.RuSH - DEBUG - Sentence(189-239):\t>We discovered new T-wave abnormalities on her EKG.<\n",
    "# 2025-08-24 23:45:48,420 - PyRuSH.RuSH - DEBUG - Sentence(241-298):\t>There was of course a four-vessel bypass surgery in 2001.<\n",
    "# 2025-08-24 23:45:48,420 - PyRuSH.RuSH - DEBUG - Sentence(300-328):\t>We did a coronary angiogram.<\n",
    "# 2025-08-24 23:45:48,421 - PyRuSH.RuSH - DEBUG - Sentence(332-426):\t>This should be increased up to 25 mg b.i.d. as preferred antihypertensive in this lady's case.<\n",
    "# 2025-08-24 23:45:48,421 - PyRuSH.RuSH - DEBUG - Sentence(428-460):\t>She also is on an ACE inhibitor.<\n",
    "# 2025-08-24 23:45:48,422 - PyRuSH.RuSH - DEBUG - Sentence(461-498):\t>So her discharge meds are as follows:<\n",
    "# 2025-08-24 23:45:48,422 - PyRuSH.RuSH - DEBUG - Sentence(499-523):\t>1.  Coreg 6.25 mg b.i.d.<"
   ]
  },
  {
   "cell_type": "code",
   "execution_count": 3,
   "id": "c0d5de6d",
   "metadata": {},
   "outputs": [],
   "source": [
    "txt1='''10.  Xopenex q.i.d. and p.r.n.\n",
    " + She is to follow up with Dr. X before that.\n",
    "        \n",
    "\n",
    "\n",
    " Ezoic - MTSam Sample Bottom Matched Content - native_bottom '''"
   ]
  },
  {
   "cell_type": "code",
   "execution_count": 4,
   "id": "29f0910e",
   "metadata": {},
   "outputs": [
    {
     "name": "stdout",
     "output_type": "stream",
     "text": [
      "2025-08-31 20:55:14,722 - PyRuSH.RuSH - DEBUG - stbegin\n",
      "2025-08-31 20:55:14,723 - PyRuSH.RuSH - DEBUG - \t0-1:1.0\t<1>\t[Rule 46:\t\\b(\\d\tstbegin\t0.0\tACTUAL]\n",
      "2025-08-31 20:55:14,723 - PyRuSH.RuSH - DEBUG - \t0-1:1.0\t<1>\t[Rule 46:\t\\b(\\d\tstbegin\t0.0\tACTUAL]\n",
      "2025-08-31 20:55:14,723 - PyRuSH.RuSH - DEBUG - \t5-6:1.0\t10.  <X>\t[Rule 57:\t\\d.\\s+(\\C)\tstbegin\t0.0\tACTUAL]\n",
      "2025-08-31 20:55:14,725 - PyRuSH.RuSH - DEBUG - \t90-91:1.0\t10.  Xopenex q.i.d. and p.r.n.  + She is to follow up with Dr. X before that.             <E>\t[Rule 58:\t\\n\\n\\s+(\\C)\tstbegin\t0.0\tACTUAL]\n",
      "2025-08-31 20:55:14,725 - PyRuSH.RuSH - DEBUG - \t96-97:1.0\t10.  Xopenex q.i.d. and p.r.n.  + She is to follow up with Dr. X before that.             Ezoic <->\t[Rule 807:\t\\c\\s+(-)\\s+\\C\tstbegin\t0.0\tACTUAL]\n",
      "2025-08-31 20:55:14,727 - PyRuSH.RuSH - DEBUG - stend\n",
      "2025-08-31 20:55:14,727 - PyRuSH.RuSH - DEBUG - \t2-3:1.0\t10<.>\t[Rule 348:\t\\d(.)\\s+\\C\tstend\t2.0\tACTUAL]\n",
      "2025-08-31 20:55:14,729 - PyRuSH.RuSH - DEBUG - \t18-19:1.0\t10.  Xopenex q.i.d<.>\t[Rule 312:\t\\a(.) +\tstend\t2.0\tACTUAL]\n",
      "2025-08-31 20:55:14,730 - PyRuSH.RuSH - DEBUG - \t29-30:1.0\t10.  Xopenex q.i.d. and p.r.n<.>\t[Rule 418:\t\\c(.)\\n\tstend\t2.0\tACTUAL]\n",
      "2025-08-31 20:55:14,731 - PyRuSH.RuSH - DEBUG - \t76-77:1.0\t10.  Xopenex q.i.d. and p.r.n.  + She is to follow up with Dr. X before that<.>\t[Rule 418:\t\\c(.)\\n\tstend\t2.0\tACTUAL]\n",
      "2025-08-31 20:55:14,731 - PyRuSH.RuSH - DEBUG - \t78-91:1.0\t10.  Xopenex q.i.d. and p.r.n.  + She is to follow up with Dr. X before that. < >\t[Rule 518:\t\\s+\\n\\n+\\s+\\C\tstend\t2.0\tACTUAL]\n",
      "2025-08-31 20:55:14,732 - PyRuSH.RuSH - DEBUG - \t94-99:1.0\t10.  Xopenex q.i.d. and p.r.n.  + She is to follow up with Dr. X before that.             Ezoi<c>\t[Rule 808:\t\\c\\s+-\\s+\\C\tstend\t2.0\tACTUAL]\n",
      "2025-08-31 20:55:14,733 - PyRuSH.RuSH - DEBUG - Sentence(0-3):\t>10.<\n",
      "2025-08-31 20:55:14,734 - PyRuSH.RuSH - DEBUG - Sentence(5-95):\t>Xopenex q.i.d. and p.r.n.  + She is to follow up with Dr. X before that.             Ezoic<\n",
      "2025-08-31 20:55:14,735 - PyRuSH.RuSH - DEBUG - Sentence(96-149):\t>- MTSam Sample Bottom Matched Content - native_bottom<\n"
     ]
    }
   ],
   "source": [
    "sents=rush.segToSentenceSpans(txt1)\n"
   ]
  },
  {
   "cell_type": "code",
   "execution_count": null,
   "id": "52bdf6d1",
   "metadata": {},
   "outputs": [],
   "source": [
    "\n",
    "nlp = English()\n",
    "nlp.add_pipe(\"medspacy_pyrush\")\n",
    "doc = nlp(input_str)\n",
    "for sent in doc.sents:\n",
    "    start = sent.start_char\n",
    "    end = sent.end_char\n",
    "    print(f\"PyRuSH.RuSH - DEBUG - Sentence({start}-{end}):\\t>{str(sent)}<\".replace('\\n',' '))"
   ]
  },
  {
   "cell_type": "code",
   "execution_count": 10,
   "id": "e5f9fe60",
   "metadata": {},
   "outputs": [
    {
     "data": {
      "text/plain": [
       "50"
      ]
     },
     "execution_count": 10,
     "metadata": {},
     "output_type": "execute_result"
    }
   ],
   "source": [
    "len(list(doc.sents))"
   ]
  },
  {
   "cell_type": "code",
   "execution_count": 4,
   "id": "6f21337d",
   "metadata": {},
   "outputs": [
    {
     "name": "stdout",
     "output_type": "stream",
     "text": [
      ">        \n",
      "\n",
      "\n",
      "        <\n",
      "----\n",
      "\n",
      ">Ms. ABCD is a 69-year-old lady, who was admitted to the hospital with chest pain and respiratory insufficiency.<\n",
      "----\n",
      "\n",
      "> <\n",
      "----\n",
      "\n",
      ">She has chronic lung disease with bronchospastic angina.<\n",
      "----\n",
      "\n",
      ">\n",
      "<\n",
      "----\n",
      "\n",
      ">We discovered new T-wave abnormalities on her EKG.<\n",
      "----\n",
      "\n",
      "> <\n",
      "----\n",
      "\n",
      ">There was of course a four-vessel bypass surgery in 2001.<\n",
      "----\n",
      "\n",
      "> <\n",
      "----\n",
      "\n",
      ">We did a coronary angiogram.<\n",
      "----\n",
      "\n",
      ">\n",
      "\n",
      "<\n",
      "----\n",
      "\n"
     ]
    }
   ],
   "source": [
    "input_str = '''        \n",
    "\n",
    "\n",
    "        Ms. ABCD is a 69-year-old lady, who was admitted to the hospital with chest pain and respiratory insufficiency.  She has chronic lung disease with bronchospastic angina.\n",
    "We discovered new T-wave abnormalities on her EKG.  There was of course a four-vessel bypass surgery in 2001.  We did a coronary angiogram. \n",
    "\n",
    "'''\n",
    "from PyRuSH.RuSH import initLogger\n",
    "initLogger()\n",
    "nlp = English()\n",
    "nlp.add_pipe(\"medspacy_pyrush\")\n",
    "doc = nlp(input_str)\n",
    "sents = [s for s in doc.sents]\n",
    "for sent in sents:\n",
    "    print('>' + str(sent) + '<\\n----\\n')"
   ]
  },
  {
   "cell_type": "code",
   "execution_count": null,
   "id": "5cf31051",
   "metadata": {},
   "outputs": [],
   "source": []
  }
 ],
 "metadata": {
  "kernelspec": {
   "display_name": "test",
   "language": "python",
   "name": "python3"
  },
  "language_info": {
   "codemirror_mode": {
    "name": "ipython",
    "version": 3
   },
   "file_extension": ".py",
   "mimetype": "text/x-python",
   "name": "python",
   "nbconvert_exporter": "python",
   "pygments_lexer": "ipython3",
   "version": "3.10.18"
  }
 },
 "nbformat": 4,
 "nbformat_minor": 5
}
